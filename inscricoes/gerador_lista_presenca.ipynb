{
 "cells": [
  {
   "cell_type": "markdown",
   "metadata": {},
   "source": [
    "# Listas de presença\n",
    "\n",
    "Arquivo para gerar arquivos csv para criar listas de presença para o dia da prova. Os arquivos são divididos por nível. Posteriormente membros da comissão irão usar os arquivos para criar listas de presença."
   ]
  },
  {
   "cell_type": "code",
   "execution_count": 1,
   "metadata": {
    "ExecuteTime": {
     "end_time": "2019-10-30T13:55:16.652493Z",
     "start_time": "2019-10-30T13:55:16.492962Z"
    }
   },
   "outputs": [],
   "source": [
    "import input_data as inpdt  # arquivo com as funções criadas para tratar os dados"
   ]
  },
  {
   "cell_type": "code",
   "execution_count": 2,
   "metadata": {
    "ExecuteTime": {
     "end_time": "2019-10-30T13:55:25.446912Z",
     "start_time": "2019-10-30T13:55:25.444849Z"
    }
   },
   "outputs": [],
   "source": [
    "file_path = \"dados_brutos/inscricoes2019_anonimo.csv\""
   ]
  },
  {
   "cell_type": "code",
   "execution_count": 3,
   "metadata": {
    "ExecuteTime": {
     "end_time": "2019-10-30T13:55:29.915956Z",
     "start_time": "2019-10-30T13:55:29.882732Z"
    }
   },
   "outputs": [
    {
     "data": {
      "text/html": [
       "<div>\n",
       "<style scoped>\n",
       "    .dataframe tbody tr th:only-of-type {\n",
       "        vertical-align: middle;\n",
       "    }\n",
       "\n",
       "    .dataframe tbody tr th {\n",
       "        vertical-align: top;\n",
       "    }\n",
       "\n",
       "    .dataframe thead th {\n",
       "        text-align: right;\n",
       "    }\n",
       "</style>\n",
       "<table border=\"1\" class=\"dataframe\">\n",
       "  <thead>\n",
       "    <tr style=\"text-align: right;\">\n",
       "      <th></th>\n",
       "      <th>Nome completo</th>\n",
       "      <th>Curso</th>\n",
       "      <th>Turma (Ex: TM222; BM151; PMQ361 - escrever dessa forma)</th>\n",
       "      <th>Categoria</th>\n",
       "    </tr>\n",
       "    <tr>\n",
       "      <th>Carimbo de data/hora</th>\n",
       "      <th></th>\n",
       "      <th></th>\n",
       "      <th></th>\n",
       "      <th></th>\n",
       "    </tr>\n",
       "  </thead>\n",
       "  <tbody>\n",
       "    <tr>\n",
       "      <th>2019-03-31 23:50:17</th>\n",
       "      <td>9LLubhn8</td>\n",
       "      <td>Biotecnologia (integrado)</td>\n",
       "      <td>TM213</td>\n",
       "      <td>Nível 1 (Integrado - 2º ou 3º período)</td>\n",
       "    </tr>\n",
       "    <tr>\n",
       "      <th>2019-03-31 23:54:19</th>\n",
       "      <td>GjNrK8vE</td>\n",
       "      <td>Alimentos (integrado)</td>\n",
       "      <td>AM241</td>\n",
       "      <td>Nível 2 (Integrado - 4º ou 5º período ; Pós-mé...</td>\n",
       "    </tr>\n",
       "    <tr>\n",
       "      <th>2019-04-01 00:51:53</th>\n",
       "      <td>eh7gy8RG</td>\n",
       "      <td>Química (integrado)</td>\n",
       "      <td>QM151</td>\n",
       "      <td>Nível 2 (Integrado - 4º ou 5º período ; Pós-mé...</td>\n",
       "    </tr>\n",
       "    <tr>\n",
       "      <th>2019-04-01 00:56:24</th>\n",
       "      <td>cFmKhcXX</td>\n",
       "      <td>Meio-ambiente (integrado)</td>\n",
       "      <td>MAM261</td>\n",
       "      <td>Nível 3 (Integrado - 6º ao 8º período ; Pós-mé...</td>\n",
       "    </tr>\n",
       "    <tr>\n",
       "      <th>2019-04-01 01:12:32</th>\n",
       "      <td>Tzm3qX1j</td>\n",
       "      <td>Biotecnologia (integrado)</td>\n",
       "      <td>BM 161</td>\n",
       "      <td>Nível 3 (Integrado - 6º ao 8º período ; Pós-mé...</td>\n",
       "    </tr>\n",
       "  </tbody>\n",
       "</table>\n",
       "</div>"
      ],
      "text/plain": [
       "                     Nome completo                      Curso  \\\n",
       "Carimbo de data/hora                                            \n",
       "2019-03-31 23:50:17       9LLubhn8  Biotecnologia (integrado)   \n",
       "2019-03-31 23:54:19       GjNrK8vE      Alimentos (integrado)   \n",
       "2019-04-01 00:51:53       eh7gy8RG        Química (integrado)   \n",
       "2019-04-01 00:56:24       cFmKhcXX  Meio-ambiente (integrado)   \n",
       "2019-04-01 01:12:32       Tzm3qX1j  Biotecnologia (integrado)   \n",
       "\n",
       "                     Turma (Ex: TM222; BM151; PMQ361 - escrever dessa forma)  \\\n",
       "Carimbo de data/hora                                                           \n",
       "2019-03-31 23:50:17                                               TM213        \n",
       "2019-03-31 23:54:19                                               AM241        \n",
       "2019-04-01 00:51:53                                               QM151        \n",
       "2019-04-01 00:56:24                                              MAM261        \n",
       "2019-04-01 01:12:32                                              BM 161        \n",
       "\n",
       "                                                              Categoria  \n",
       "Carimbo de data/hora                                                     \n",
       "2019-03-31 23:50:17              Nível 1 (Integrado - 2º ou 3º período)  \n",
       "2019-03-31 23:54:19   Nível 2 (Integrado - 4º ou 5º período ; Pós-mé...  \n",
       "2019-04-01 00:51:53   Nível 2 (Integrado - 4º ou 5º período ; Pós-mé...  \n",
       "2019-04-01 00:56:24   Nível 3 (Integrado - 6º ao 8º período ; Pós-mé...  \n",
       "2019-04-01 01:12:32   Nível 3 (Integrado - 6º ao 8º período ; Pós-mé...  "
      ]
     },
     "execution_count": 3,
     "metadata": {},
     "output_type": "execute_result"
    }
   ],
   "source": [
    "df = inpdt.input_data(file_path)\n",
    "column = 'Carimbo de data/hora'\n",
    "df = inpdt.time_index(df, column)\n",
    "column = 'Nome completo'\n",
    "df = inpdt.no_duplicates(df, column)\n",
    "df.head()"
   ]
  },
  {
   "cell_type": "code",
   "execution_count": 4,
   "metadata": {
    "ExecuteTime": {
     "end_time": "2019-10-30T13:56:00.474657Z",
     "start_time": "2019-10-30T13:56:00.467013Z"
    }
   },
   "outputs": [
    {
     "data": {
      "text/html": [
       "<div>\n",
       "<style scoped>\n",
       "    .dataframe tbody tr th:only-of-type {\n",
       "        vertical-align: middle;\n",
       "    }\n",
       "\n",
       "    .dataframe tbody tr th {\n",
       "        vertical-align: top;\n",
       "    }\n",
       "\n",
       "    .dataframe thead th {\n",
       "        text-align: right;\n",
       "    }\n",
       "</style>\n",
       "<table border=\"1\" class=\"dataframe\">\n",
       "  <thead>\n",
       "    <tr style=\"text-align: right;\">\n",
       "      <th></th>\n",
       "      <th>Nome completo</th>\n",
       "      <th>Curso</th>\n",
       "      <th>Turma (Ex: TM222; BM151; PMQ361 - escrever dessa forma)</th>\n",
       "      <th>Categoria</th>\n",
       "    </tr>\n",
       "    <tr>\n",
       "      <th>Carimbo de data/hora</th>\n",
       "      <th></th>\n",
       "      <th></th>\n",
       "      <th></th>\n",
       "      <th></th>\n",
       "    </tr>\n",
       "  </thead>\n",
       "  <tbody>\n",
       "    <tr>\n",
       "      <th>2019-03-31 23:50:17</th>\n",
       "      <td>9LLubhn8</td>\n",
       "      <td>Biotecnologia (integrado)</td>\n",
       "      <td>TM213</td>\n",
       "      <td>Nível 1 (Integrado - 2º ou 3º período)</td>\n",
       "    </tr>\n",
       "    <tr>\n",
       "      <th>2019-04-02 23:48:06</th>\n",
       "      <td>BbHXEmJi</td>\n",
       "      <td>Biotecnologia (integrado)</td>\n",
       "      <td>BM131</td>\n",
       "      <td>Nível 1 (Integrado - 2º ou 3º período)</td>\n",
       "    </tr>\n",
       "    <tr>\n",
       "      <th>2019-04-04 15:56:56</th>\n",
       "      <td>AokZEoL6</td>\n",
       "      <td>Biotecnologia (integrado)</td>\n",
       "      <td>BM131</td>\n",
       "      <td>Nível 1 (Integrado - 2º ou 3º período)</td>\n",
       "    </tr>\n",
       "    <tr>\n",
       "      <th>2019-04-04 22:37:35</th>\n",
       "      <td>cH9idNgn</td>\n",
       "      <td>Biotecnologia (integrado)</td>\n",
       "      <td>BM131</td>\n",
       "      <td>Nível 1 (Integrado - 2º ou 3º período)</td>\n",
       "    </tr>\n",
       "    <tr>\n",
       "      <th>2019-04-04 22:47:47</th>\n",
       "      <td>QFdNC7O0</td>\n",
       "      <td>Química (integrado)</td>\n",
       "      <td>QM131</td>\n",
       "      <td>Nível 1 (Integrado - 2º ou 3º período)</td>\n",
       "    </tr>\n",
       "  </tbody>\n",
       "</table>\n",
       "</div>"
      ],
      "text/plain": [
       "                     Nome completo                      Curso  \\\n",
       "Carimbo de data/hora                                            \n",
       "2019-03-31 23:50:17       9LLubhn8  Biotecnologia (integrado)   \n",
       "2019-04-02 23:48:06       BbHXEmJi  Biotecnologia (integrado)   \n",
       "2019-04-04 15:56:56       AokZEoL6  Biotecnologia (integrado)   \n",
       "2019-04-04 22:37:35       cH9idNgn  Biotecnologia (integrado)   \n",
       "2019-04-04 22:47:47       QFdNC7O0        Química (integrado)   \n",
       "\n",
       "                     Turma (Ex: TM222; BM151; PMQ361 - escrever dessa forma)  \\\n",
       "Carimbo de data/hora                                                           \n",
       "2019-03-31 23:50:17                                               TM213        \n",
       "2019-04-02 23:48:06                                               BM131        \n",
       "2019-04-04 15:56:56                                               BM131        \n",
       "2019-04-04 22:37:35                                               BM131        \n",
       "2019-04-04 22:47:47                                               QM131        \n",
       "\n",
       "                                                   Categoria  \n",
       "Carimbo de data/hora                                          \n",
       "2019-03-31 23:50:17   Nível 1 (Integrado - 2º ou 3º período)  \n",
       "2019-04-02 23:48:06   Nível 1 (Integrado - 2º ou 3º período)  \n",
       "2019-04-04 15:56:56   Nível 1 (Integrado - 2º ou 3º período)  \n",
       "2019-04-04 22:37:35   Nível 1 (Integrado - 2º ou 3º período)  \n",
       "2019-04-04 22:47:47   Nível 1 (Integrado - 2º ou 3º período)  "
      ]
     },
     "execution_count": 4,
     "metadata": {},
     "output_type": "execute_result"
    }
   ],
   "source": [
    "nivel1_df = df[df['Categoria'] == 'Nível 1 (Integrado - 2º ou 3º período)']\n",
    "nivel1_df.head()"
   ]
  },
  {
   "cell_type": "code",
   "execution_count": 5,
   "metadata": {
    "ExecuteTime": {
     "end_time": "2019-10-30T13:56:22.862339Z",
     "start_time": "2019-10-30T13:56:22.821251Z"
    }
   },
   "outputs": [],
   "source": [
    "header = ['Nome completo', 'Turma (Ex: TM222; BM151; PMQ361 - escrever dessa forma)']\n",
    "\n",
    "nivel1_df.to_csv('nivel1names.csv', columns=header)"
   ]
  },
  {
   "cell_type": "code",
   "execution_count": null,
   "metadata": {},
   "outputs": [],
   "source": []
  },
  {
   "cell_type": "code",
   "execution_count": 6,
   "metadata": {
    "ExecuteTime": {
     "end_time": "2019-10-30T13:56:31.058437Z",
     "start_time": "2019-10-30T13:56:31.051550Z"
    }
   },
   "outputs": [
    {
     "data": {
      "text/html": [
       "<div>\n",
       "<style scoped>\n",
       "    .dataframe tbody tr th:only-of-type {\n",
       "        vertical-align: middle;\n",
       "    }\n",
       "\n",
       "    .dataframe tbody tr th {\n",
       "        vertical-align: top;\n",
       "    }\n",
       "\n",
       "    .dataframe thead th {\n",
       "        text-align: right;\n",
       "    }\n",
       "</style>\n",
       "<table border=\"1\" class=\"dataframe\">\n",
       "  <thead>\n",
       "    <tr style=\"text-align: right;\">\n",
       "      <th></th>\n",
       "      <th>Nome completo</th>\n",
       "      <th>Curso</th>\n",
       "      <th>Turma (Ex: TM222; BM151; PMQ361 - escrever dessa forma)</th>\n",
       "      <th>Categoria</th>\n",
       "    </tr>\n",
       "    <tr>\n",
       "      <th>Carimbo de data/hora</th>\n",
       "      <th></th>\n",
       "      <th></th>\n",
       "      <th></th>\n",
       "      <th></th>\n",
       "    </tr>\n",
       "  </thead>\n",
       "  <tbody>\n",
       "    <tr>\n",
       "      <th>2019-03-31 23:54:19</th>\n",
       "      <td>GjNrK8vE</td>\n",
       "      <td>Alimentos (integrado)</td>\n",
       "      <td>AM241</td>\n",
       "      <td>Nível 2 (Integrado - 4º ou 5º período ; Pós-mé...</td>\n",
       "    </tr>\n",
       "    <tr>\n",
       "      <th>2019-04-01 00:51:53</th>\n",
       "      <td>eh7gy8RG</td>\n",
       "      <td>Química (integrado)</td>\n",
       "      <td>QM151</td>\n",
       "      <td>Nível 2 (Integrado - 4º ou 5º período ; Pós-mé...</td>\n",
       "    </tr>\n",
       "    <tr>\n",
       "      <th>2019-04-01 09:05:09</th>\n",
       "      <td>gRhXA1jF</td>\n",
       "      <td>Química (integrado)</td>\n",
       "      <td>Qm141</td>\n",
       "      <td>Nível 2 (Integrado - 4º ou 5º período ; Pós-mé...</td>\n",
       "    </tr>\n",
       "    <tr>\n",
       "      <th>2019-04-01 23:54:50</th>\n",
       "      <td>DuhryjVN</td>\n",
       "      <td>Química (integrado)</td>\n",
       "      <td>QM141</td>\n",
       "      <td>Nível 2 (Integrado - 4º ou 5º período ; Pós-mé...</td>\n",
       "    </tr>\n",
       "    <tr>\n",
       "      <th>2019-04-02 02:07:33</th>\n",
       "      <td>GJgITPlb</td>\n",
       "      <td>Química (integrado)</td>\n",
       "      <td>QM141</td>\n",
       "      <td>Nível 2 (Integrado - 4º ou 5º período ; Pós-mé...</td>\n",
       "    </tr>\n",
       "  </tbody>\n",
       "</table>\n",
       "</div>"
      ],
      "text/plain": [
       "                     Nome completo                  Curso  \\\n",
       "Carimbo de data/hora                                        \n",
       "2019-03-31 23:54:19       GjNrK8vE  Alimentos (integrado)   \n",
       "2019-04-01 00:51:53       eh7gy8RG    Química (integrado)   \n",
       "2019-04-01 09:05:09       gRhXA1jF    Química (integrado)   \n",
       "2019-04-01 23:54:50       DuhryjVN    Química (integrado)   \n",
       "2019-04-02 02:07:33       GJgITPlb    Química (integrado)   \n",
       "\n",
       "                     Turma (Ex: TM222; BM151; PMQ361 - escrever dessa forma)  \\\n",
       "Carimbo de data/hora                                                           \n",
       "2019-03-31 23:54:19                                               AM241        \n",
       "2019-04-01 00:51:53                                               QM151        \n",
       "2019-04-01 09:05:09                                               Qm141        \n",
       "2019-04-01 23:54:50                                               QM141        \n",
       "2019-04-02 02:07:33                                               QM141        \n",
       "\n",
       "                                                              Categoria  \n",
       "Carimbo de data/hora                                                     \n",
       "2019-03-31 23:54:19   Nível 2 (Integrado - 4º ou 5º período ; Pós-mé...  \n",
       "2019-04-01 00:51:53   Nível 2 (Integrado - 4º ou 5º período ; Pós-mé...  \n",
       "2019-04-01 09:05:09   Nível 2 (Integrado - 4º ou 5º período ; Pós-mé...  \n",
       "2019-04-01 23:54:50   Nível 2 (Integrado - 4º ou 5º período ; Pós-mé...  \n",
       "2019-04-02 02:07:33   Nível 2 (Integrado - 4º ou 5º período ; Pós-mé...  "
      ]
     },
     "execution_count": 6,
     "metadata": {},
     "output_type": "execute_result"
    }
   ],
   "source": [
    "nivel2_df = df[df['Categoria'] == 'Nível 2 (Integrado - 4º ou 5º período ; Pós-médio - 1º ao 3º período)']\n",
    "nivel2_df.head()"
   ]
  },
  {
   "cell_type": "code",
   "execution_count": 7,
   "metadata": {
    "ExecuteTime": {
     "end_time": "2019-10-30T13:56:35.118953Z",
     "start_time": "2019-10-30T13:56:34.905612Z"
    }
   },
   "outputs": [],
   "source": [
    "nivel2_df.to_csv('nivel2names.csv', columns=header)"
   ]
  },
  {
   "cell_type": "code",
   "execution_count": 8,
   "metadata": {
    "ExecuteTime": {
     "end_time": "2019-10-30T13:56:38.898412Z",
     "start_time": "2019-10-30T13:56:38.891739Z"
    }
   },
   "outputs": [
    {
     "data": {
      "text/html": [
       "<div>\n",
       "<style scoped>\n",
       "    .dataframe tbody tr th:only-of-type {\n",
       "        vertical-align: middle;\n",
       "    }\n",
       "\n",
       "    .dataframe tbody tr th {\n",
       "        vertical-align: top;\n",
       "    }\n",
       "\n",
       "    .dataframe thead th {\n",
       "        text-align: right;\n",
       "    }\n",
       "</style>\n",
       "<table border=\"1\" class=\"dataframe\">\n",
       "  <thead>\n",
       "    <tr style=\"text-align: right;\">\n",
       "      <th></th>\n",
       "      <th>Nome completo</th>\n",
       "      <th>Curso</th>\n",
       "      <th>Turma (Ex: TM222; BM151; PMQ361 - escrever dessa forma)</th>\n",
       "      <th>Categoria</th>\n",
       "    </tr>\n",
       "    <tr>\n",
       "      <th>Carimbo de data/hora</th>\n",
       "      <th></th>\n",
       "      <th></th>\n",
       "      <th></th>\n",
       "      <th></th>\n",
       "    </tr>\n",
       "  </thead>\n",
       "  <tbody>\n",
       "    <tr>\n",
       "      <th>2019-04-01 00:56:24</th>\n",
       "      <td>cFmKhcXX</td>\n",
       "      <td>Meio-ambiente (integrado)</td>\n",
       "      <td>MAM261</td>\n",
       "      <td>Nível 3 (Integrado - 6º ao 8º período ; Pós-mé...</td>\n",
       "    </tr>\n",
       "    <tr>\n",
       "      <th>2019-04-01 01:12:32</th>\n",
       "      <td>Tzm3qX1j</td>\n",
       "      <td>Biotecnologia (integrado)</td>\n",
       "      <td>BM 161</td>\n",
       "      <td>Nível 3 (Integrado - 6º ao 8º período ; Pós-mé...</td>\n",
       "    </tr>\n",
       "    <tr>\n",
       "      <th>2019-04-02 23:59:10</th>\n",
       "      <td>b5rGvCSy</td>\n",
       "      <td>Meio-ambiente (integrado)</td>\n",
       "      <td>MAM 261</td>\n",
       "      <td>Nível 3 (Integrado - 6º ao 8º período ; Pós-mé...</td>\n",
       "    </tr>\n",
       "    <tr>\n",
       "      <th>2019-04-04 22:34:30</th>\n",
       "      <td>WMtIsCIj</td>\n",
       "      <td>Química (integrado)</td>\n",
       "      <td>QM161</td>\n",
       "      <td>Nível 3 (Integrado - 6º ao 8º período ; Pós-mé...</td>\n",
       "    </tr>\n",
       "    <tr>\n",
       "      <th>2019-04-04 23:19:06</th>\n",
       "      <td>gVafAXsT</td>\n",
       "      <td>Alimentos (integrado)</td>\n",
       "      <td>AM261</td>\n",
       "      <td>Nível 3 (Integrado - 6º ao 8º período ; Pós-mé...</td>\n",
       "    </tr>\n",
       "  </tbody>\n",
       "</table>\n",
       "</div>"
      ],
      "text/plain": [
       "                     Nome completo                      Curso  \\\n",
       "Carimbo de data/hora                                            \n",
       "2019-04-01 00:56:24       cFmKhcXX  Meio-ambiente (integrado)   \n",
       "2019-04-01 01:12:32       Tzm3qX1j  Biotecnologia (integrado)   \n",
       "2019-04-02 23:59:10       b5rGvCSy  Meio-ambiente (integrado)   \n",
       "2019-04-04 22:34:30       WMtIsCIj        Química (integrado)   \n",
       "2019-04-04 23:19:06       gVafAXsT      Alimentos (integrado)   \n",
       "\n",
       "                     Turma (Ex: TM222; BM151; PMQ361 - escrever dessa forma)  \\\n",
       "Carimbo de data/hora                                                           \n",
       "2019-04-01 00:56:24                                              MAM261        \n",
       "2019-04-01 01:12:32                                              BM 161        \n",
       "2019-04-02 23:59:10                                             MAM 261        \n",
       "2019-04-04 22:34:30                                               QM161        \n",
       "2019-04-04 23:19:06                                               AM261        \n",
       "\n",
       "                                                              Categoria  \n",
       "Carimbo de data/hora                                                     \n",
       "2019-04-01 00:56:24   Nível 3 (Integrado - 6º ao 8º período ; Pós-mé...  \n",
       "2019-04-01 01:12:32   Nível 3 (Integrado - 6º ao 8º período ; Pós-mé...  \n",
       "2019-04-02 23:59:10   Nível 3 (Integrado - 6º ao 8º período ; Pós-mé...  \n",
       "2019-04-04 22:34:30   Nível 3 (Integrado - 6º ao 8º período ; Pós-mé...  \n",
       "2019-04-04 23:19:06   Nível 3 (Integrado - 6º ao 8º período ; Pós-mé...  "
      ]
     },
     "execution_count": 8,
     "metadata": {},
     "output_type": "execute_result"
    }
   ],
   "source": [
    "nivel3_df = df[df['Categoria'] == 'Nível 3 (Integrado - 6º ao 8º período ; Pós-médio - 4º ao 6º período)']\n",
    "nivel3_df.head()"
   ]
  },
  {
   "cell_type": "code",
   "execution_count": 9,
   "metadata": {
    "ExecuteTime": {
     "end_time": "2019-10-30T13:56:41.137229Z",
     "start_time": "2019-10-30T13:56:41.082462Z"
    }
   },
   "outputs": [],
   "source": [
    "nivel3_df.to_csv('nivel3names.csv', columns=header)"
   ]
  },
  {
   "cell_type": "code",
   "execution_count": null,
   "metadata": {},
   "outputs": [],
   "source": []
  }
 ],
 "metadata": {
  "hide_input": false,
  "kernelspec": {
   "display_name": "Python 3",
   "language": "python",
   "name": "python3"
  },
  "language_info": {
   "codemirror_mode": {
    "name": "ipython",
    "version": 3
   },
   "file_extension": ".py",
   "mimetype": "text/x-python",
   "name": "python",
   "nbconvert_exporter": "python",
   "pygments_lexer": "ipython3",
   "version": "3.7.3"
  },
  "toc": {
   "base_numbering": 1,
   "nav_menu": {},
   "number_sections": true,
   "sideBar": true,
   "skip_h1_title": false,
   "title_cell": "Table of Contents",
   "title_sidebar": "Contents",
   "toc_cell": false,
   "toc_position": {},
   "toc_section_display": true,
   "toc_window_display": false
  },
  "varInspector": {
   "cols": {
    "lenName": 16,
    "lenType": 16,
    "lenVar": 40
   },
   "kernels_config": {
    "python": {
     "delete_cmd_postfix": "",
     "delete_cmd_prefix": "del ",
     "library": "var_list.py",
     "varRefreshCmd": "print(var_dic_list())"
    },
    "r": {
     "delete_cmd_postfix": ") ",
     "delete_cmd_prefix": "rm(",
     "library": "var_list.r",
     "varRefreshCmd": "cat(var_dic_list()) "
    }
   },
   "types_to_exclude": [
    "module",
    "function",
    "builtin_function_or_method",
    "instance",
    "_Feature"
   ],
   "window_display": false
  }
 },
 "nbformat": 4,
 "nbformat_minor": 2
}
