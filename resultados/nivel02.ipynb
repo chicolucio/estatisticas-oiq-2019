{
 "cells": [
  {
   "cell_type": "code",
   "execution_count": 1,
   "metadata": {
    "ExecuteTime": {
     "end_time": "2019-10-30T12:46:52.618552Z",
     "start_time": "2019-10-30T12:46:52.608349Z"
    }
   },
   "outputs": [],
   "source": [
    "# utilizado quando da criação do notebook, para recarregar os arquivos externos automaticamente\n",
    "\n",
    "%load_ext autoreload\n",
    "%autoreload 2"
   ]
  },
  {
   "cell_type": "markdown",
   "metadata": {},
   "source": [
    "# Importando módulos e arquivo de dados"
   ]
  },
  {
   "cell_type": "code",
   "execution_count": 2,
   "metadata": {
    "ExecuteTime": {
     "end_time": "2019-10-30T12:46:54.333425Z",
     "start_time": "2019-10-30T12:46:54.091520Z"
    }
   },
   "outputs": [],
   "source": [
    "import input_data as inpdt  # arquivo de funções criadas para tratar os dados\n",
    "import plots  # arquivo de funções criadas para plotar os dados\n",
    "import matplotlib.pyplot as plt\n",
    "import pandas as pd"
   ]
  },
  {
   "cell_type": "code",
   "execution_count": 3,
   "metadata": {
    "ExecuteTime": {
     "end_time": "2019-10-30T12:46:55.114153Z",
     "start_time": "2019-10-30T12:46:55.106734Z"
    }
   },
   "outputs": [],
   "source": [
    "file_path = \"dados_brutos/notas_2019_nivel2_limpo.csv\""
   ]
  },
  {
   "cell_type": "code",
   "execution_count": 4,
   "metadata": {
    "ExecuteTime": {
     "end_time": "2019-10-30T12:46:59.912282Z",
     "start_time": "2019-10-30T12:46:59.872964Z"
    }
   },
   "outputs": [
    {
     "data": {
      "text/html": [
       "<div>\n",
       "<style scoped>\n",
       "    .dataframe tbody tr th:only-of-type {\n",
       "        vertical-align: middle;\n",
       "    }\n",
       "\n",
       "    .dataframe tbody tr th {\n",
       "        vertical-align: top;\n",
       "    }\n",
       "\n",
       "    .dataframe thead th {\n",
       "        text-align: right;\n",
       "    }\n",
       "</style>\n",
       "<table border=\"1\" class=\"dataframe\">\n",
       "  <thead>\n",
       "    <tr style=\"text-align: right;\">\n",
       "      <th></th>\n",
       "      <th>ALUNO</th>\n",
       "      <th>TURMA</th>\n",
       "      <th>Acertos parte A</th>\n",
       "      <th>Q17</th>\n",
       "      <th>Q18</th>\n",
       "    </tr>\n",
       "  </thead>\n",
       "  <tbody>\n",
       "    <tr>\n",
       "      <th>0</th>\n",
       "      <td>OKu4gSfE</td>\n",
       "      <td>QM151</td>\n",
       "      <td>15.0</td>\n",
       "      <td>5.0</td>\n",
       "      <td>10.0</td>\n",
       "    </tr>\n",
       "    <tr>\n",
       "      <th>1</th>\n",
       "      <td>AmZw0qUO</td>\n",
       "      <td>QM141</td>\n",
       "      <td>11.0</td>\n",
       "      <td>10.0</td>\n",
       "      <td>10.0</td>\n",
       "    </tr>\n",
       "    <tr>\n",
       "      <th>2</th>\n",
       "      <td>fFvtEAT4</td>\n",
       "      <td>AM241</td>\n",
       "      <td>13.0</td>\n",
       "      <td>5.0</td>\n",
       "      <td>0.0</td>\n",
       "    </tr>\n",
       "    <tr>\n",
       "      <th>3</th>\n",
       "      <td>smFiIup1</td>\n",
       "      <td>AM241</td>\n",
       "      <td>13.0</td>\n",
       "      <td>0.0</td>\n",
       "      <td>0.0</td>\n",
       "    </tr>\n",
       "    <tr>\n",
       "      <th>4</th>\n",
       "      <td>UdBkP5fc</td>\n",
       "      <td>FM141</td>\n",
       "      <td>13.0</td>\n",
       "      <td>0.0</td>\n",
       "      <td>0.0</td>\n",
       "    </tr>\n",
       "  </tbody>\n",
       "</table>\n",
       "</div>"
      ],
      "text/plain": [
       "      ALUNO  TURMA  Acertos parte A   Q17   Q18\n",
       "0  OKu4gSfE  QM151             15.0   5.0  10.0\n",
       "1  AmZw0qUO  QM141             11.0  10.0  10.0\n",
       "2  fFvtEAT4  AM241             13.0   5.0   0.0\n",
       "3  smFiIup1  AM241             13.0   0.0   0.0\n",
       "4  UdBkP5fc  FM141             13.0   0.0   0.0"
      ]
     },
     "execution_count": 4,
     "metadata": {},
     "output_type": "execute_result"
    }
   ],
   "source": [
    "df = inpdt.input_data(file_path)\n",
    "df.head()"
   ]
  },
  {
   "cell_type": "markdown",
   "metadata": {},
   "source": [
    "# Tratando os dados de entrada"
   ]
  },
  {
   "cell_type": "markdown",
   "metadata": {},
   "source": [
    "## Removendo alunos faltosos"
   ]
  },
  {
   "cell_type": "code",
   "execution_count": 5,
   "metadata": {
    "ExecuteTime": {
     "end_time": "2019-10-30T12:47:07.650039Z",
     "start_time": "2019-10-30T12:47:07.632534Z"
    }
   },
   "outputs": [
    {
     "data": {
      "text/html": [
       "<div>\n",
       "<style scoped>\n",
       "    .dataframe tbody tr th:only-of-type {\n",
       "        vertical-align: middle;\n",
       "    }\n",
       "\n",
       "    .dataframe tbody tr th {\n",
       "        vertical-align: top;\n",
       "    }\n",
       "\n",
       "    .dataframe thead th {\n",
       "        text-align: right;\n",
       "    }\n",
       "</style>\n",
       "<table border=\"1\" class=\"dataframe\">\n",
       "  <thead>\n",
       "    <tr style=\"text-align: right;\">\n",
       "      <th></th>\n",
       "      <th>ALUNO</th>\n",
       "      <th>TURMA</th>\n",
       "      <th>Acertos parte A</th>\n",
       "      <th>Q17</th>\n",
       "      <th>Q18</th>\n",
       "    </tr>\n",
       "  </thead>\n",
       "  <tbody>\n",
       "    <tr>\n",
       "      <th>0</th>\n",
       "      <td>OKu4gSfE</td>\n",
       "      <td>QM151</td>\n",
       "      <td>15.0</td>\n",
       "      <td>5.0</td>\n",
       "      <td>10.0</td>\n",
       "    </tr>\n",
       "    <tr>\n",
       "      <th>1</th>\n",
       "      <td>AmZw0qUO</td>\n",
       "      <td>QM141</td>\n",
       "      <td>11.0</td>\n",
       "      <td>10.0</td>\n",
       "      <td>10.0</td>\n",
       "    </tr>\n",
       "    <tr>\n",
       "      <th>2</th>\n",
       "      <td>fFvtEAT4</td>\n",
       "      <td>AM241</td>\n",
       "      <td>13.0</td>\n",
       "      <td>5.0</td>\n",
       "      <td>0.0</td>\n",
       "    </tr>\n",
       "    <tr>\n",
       "      <th>3</th>\n",
       "      <td>smFiIup1</td>\n",
       "      <td>AM241</td>\n",
       "      <td>13.0</td>\n",
       "      <td>0.0</td>\n",
       "      <td>0.0</td>\n",
       "    </tr>\n",
       "    <tr>\n",
       "      <th>4</th>\n",
       "      <td>UdBkP5fc</td>\n",
       "      <td>FM141</td>\n",
       "      <td>13.0</td>\n",
       "      <td>0.0</td>\n",
       "      <td>0.0</td>\n",
       "    </tr>\n",
       "  </tbody>\n",
       "</table>\n",
       "</div>"
      ],
      "text/plain": [
       "      ALUNO  TURMA  Acertos parte A   Q17   Q18\n",
       "0  OKu4gSfE  QM151             15.0   5.0  10.0\n",
       "1  AmZw0qUO  QM141             11.0  10.0  10.0\n",
       "2  fFvtEAT4  AM241             13.0   5.0   0.0\n",
       "3  smFiIup1  AM241             13.0   0.0   0.0\n",
       "4  UdBkP5fc  FM141             13.0   0.0   0.0"
      ]
     },
     "execution_count": 5,
     "metadata": {},
     "output_type": "execute_result"
    }
   ],
   "source": [
    "df_presentes = inpdt.no_absents(df)\n",
    "df_presentes.head()"
   ]
  },
  {
   "cell_type": "code",
   "execution_count": 6,
   "metadata": {
    "ExecuteTime": {
     "end_time": "2019-10-30T12:47:10.814156Z",
     "start_time": "2019-10-30T12:47:10.796770Z"
    }
   },
   "outputs": [
    {
     "data": {
      "text/html": [
       "<div>\n",
       "<style scoped>\n",
       "    .dataframe tbody tr th:only-of-type {\n",
       "        vertical-align: middle;\n",
       "    }\n",
       "\n",
       "    .dataframe tbody tr th {\n",
       "        vertical-align: top;\n",
       "    }\n",
       "\n",
       "    .dataframe thead th {\n",
       "        text-align: right;\n",
       "    }\n",
       "</style>\n",
       "<table border=\"1\" class=\"dataframe\">\n",
       "  <thead>\n",
       "    <tr style=\"text-align: right;\">\n",
       "      <th></th>\n",
       "      <th>Acertos parte A</th>\n",
       "      <th>Q17</th>\n",
       "      <th>Q18</th>\n",
       "    </tr>\n",
       "  </thead>\n",
       "  <tbody>\n",
       "    <tr>\n",
       "      <th>count</th>\n",
       "      <td>40.000000</td>\n",
       "      <td>40.000000</td>\n",
       "      <td>40.000000</td>\n",
       "    </tr>\n",
       "    <tr>\n",
       "      <th>mean</th>\n",
       "      <td>8.725000</td>\n",
       "      <td>1.800000</td>\n",
       "      <td>1.500000</td>\n",
       "    </tr>\n",
       "    <tr>\n",
       "      <th>std</th>\n",
       "      <td>2.855382</td>\n",
       "      <td>2.700427</td>\n",
       "      <td>3.616203</td>\n",
       "    </tr>\n",
       "    <tr>\n",
       "      <th>min</th>\n",
       "      <td>3.000000</td>\n",
       "      <td>0.000000</td>\n",
       "      <td>0.000000</td>\n",
       "    </tr>\n",
       "    <tr>\n",
       "      <th>25%</th>\n",
       "      <td>6.750000</td>\n",
       "      <td>0.000000</td>\n",
       "      <td>0.000000</td>\n",
       "    </tr>\n",
       "    <tr>\n",
       "      <th>50%</th>\n",
       "      <td>9.000000</td>\n",
       "      <td>0.000000</td>\n",
       "      <td>0.000000</td>\n",
       "    </tr>\n",
       "    <tr>\n",
       "      <th>75%</th>\n",
       "      <td>11.000000</td>\n",
       "      <td>4.250000</td>\n",
       "      <td>0.000000</td>\n",
       "    </tr>\n",
       "    <tr>\n",
       "      <th>max</th>\n",
       "      <td>15.000000</td>\n",
       "      <td>10.000000</td>\n",
       "      <td>10.000000</td>\n",
       "    </tr>\n",
       "  </tbody>\n",
       "</table>\n",
       "</div>"
      ],
      "text/plain": [
       "       Acertos parte A        Q17        Q18\n",
       "count        40.000000  40.000000  40.000000\n",
       "mean          8.725000   1.800000   1.500000\n",
       "std           2.855382   2.700427   3.616203\n",
       "min           3.000000   0.000000   0.000000\n",
       "25%           6.750000   0.000000   0.000000\n",
       "50%           9.000000   0.000000   0.000000\n",
       "75%          11.000000   4.250000   0.000000\n",
       "max          15.000000  10.000000  10.000000"
      ]
     },
     "execution_count": 6,
     "metadata": {},
     "output_type": "execute_result"
    }
   ],
   "source": [
    "df_presentes.describe()"
   ]
  },
  {
   "cell_type": "markdown",
   "metadata": {},
   "source": [
    "## Calculando as notas, organizando e describe"
   ]
  },
  {
   "cell_type": "code",
   "execution_count": 7,
   "metadata": {
    "ExecuteTime": {
     "end_time": "2019-10-30T12:47:19.134435Z",
     "start_time": "2019-10-30T12:47:19.119157Z"
    }
   },
   "outputs": [
    {
     "data": {
      "text/html": [
       "<div>\n",
       "<style scoped>\n",
       "    .dataframe tbody tr th:only-of-type {\n",
       "        vertical-align: middle;\n",
       "    }\n",
       "\n",
       "    .dataframe tbody tr th {\n",
       "        vertical-align: top;\n",
       "    }\n",
       "\n",
       "    .dataframe thead th {\n",
       "        text-align: right;\n",
       "    }\n",
       "</style>\n",
       "<table border=\"1\" class=\"dataframe\">\n",
       "  <thead>\n",
       "    <tr style=\"text-align: right;\">\n",
       "      <th></th>\n",
       "      <th>ALUNO</th>\n",
       "      <th>TURMA</th>\n",
       "      <th>Acertos parte A</th>\n",
       "      <th>Q17</th>\n",
       "      <th>Q18</th>\n",
       "      <th>Pontos - Objetiva</th>\n",
       "      <th>Pontos - Discursiva</th>\n",
       "      <th>Pontuação final</th>\n",
       "    </tr>\n",
       "  </thead>\n",
       "  <tbody>\n",
       "    <tr>\n",
       "      <th>0</th>\n",
       "      <td>OKu4gSfE</td>\n",
       "      <td>QM151</td>\n",
       "      <td>15.0</td>\n",
       "      <td>5.0</td>\n",
       "      <td>10.0</td>\n",
       "      <td>75.0</td>\n",
       "      <td>15.0</td>\n",
       "      <td>90.0</td>\n",
       "    </tr>\n",
       "    <tr>\n",
       "      <th>1</th>\n",
       "      <td>AmZw0qUO</td>\n",
       "      <td>QM141</td>\n",
       "      <td>11.0</td>\n",
       "      <td>10.0</td>\n",
       "      <td>10.0</td>\n",
       "      <td>55.0</td>\n",
       "      <td>20.0</td>\n",
       "      <td>75.0</td>\n",
       "    </tr>\n",
       "    <tr>\n",
       "      <th>2</th>\n",
       "      <td>fFvtEAT4</td>\n",
       "      <td>AM241</td>\n",
       "      <td>13.0</td>\n",
       "      <td>5.0</td>\n",
       "      <td>0.0</td>\n",
       "      <td>65.0</td>\n",
       "      <td>5.0</td>\n",
       "      <td>70.0</td>\n",
       "    </tr>\n",
       "    <tr>\n",
       "      <th>3</th>\n",
       "      <td>smFiIup1</td>\n",
       "      <td>AM241</td>\n",
       "      <td>13.0</td>\n",
       "      <td>0.0</td>\n",
       "      <td>0.0</td>\n",
       "      <td>65.0</td>\n",
       "      <td>0.0</td>\n",
       "      <td>65.0</td>\n",
       "    </tr>\n",
       "    <tr>\n",
       "      <th>4</th>\n",
       "      <td>UdBkP5fc</td>\n",
       "      <td>FM141</td>\n",
       "      <td>13.0</td>\n",
       "      <td>0.0</td>\n",
       "      <td>0.0</td>\n",
       "      <td>65.0</td>\n",
       "      <td>0.0</td>\n",
       "      <td>65.0</td>\n",
       "    </tr>\n",
       "  </tbody>\n",
       "</table>\n",
       "</div>"
      ],
      "text/plain": [
       "      ALUNO  TURMA  Acertos parte A   Q17   Q18  Pontos - Objetiva  \\\n",
       "0  OKu4gSfE  QM151             15.0   5.0  10.0               75.0   \n",
       "1  AmZw0qUO  QM141             11.0  10.0  10.0               55.0   \n",
       "2  fFvtEAT4  AM241             13.0   5.0   0.0               65.0   \n",
       "3  smFiIup1  AM241             13.0   0.0   0.0               65.0   \n",
       "4  UdBkP5fc  FM141             13.0   0.0   0.0               65.0   \n",
       "\n",
       "   Pontos - Discursiva  Pontuação final  \n",
       "0                 15.0             90.0  \n",
       "1                 20.0             75.0  \n",
       "2                  5.0             70.0  \n",
       "3                  0.0             65.0  \n",
       "4                  0.0             65.0  "
      ]
     },
     "execution_count": 7,
     "metadata": {},
     "output_type": "execute_result"
    }
   ],
   "source": [
    "df_pontos = inpdt.grades(df_presentes)\n",
    "df_pontos.head()"
   ]
  },
  {
   "cell_type": "markdown",
   "metadata": {},
   "source": [
    "\n",
    "**Aplicando o critério de desempate**\n"
   ]
  },
  {
   "cell_type": "code",
   "execution_count": 8,
   "metadata": {
    "ExecuteTime": {
     "end_time": "2019-10-30T12:47:23.656044Z",
     "start_time": "2019-10-30T12:47:23.640825Z"
    }
   },
   "outputs": [
    {
     "data": {
      "text/html": [
       "<div>\n",
       "<style scoped>\n",
       "    .dataframe tbody tr th:only-of-type {\n",
       "        vertical-align: middle;\n",
       "    }\n",
       "\n",
       "    .dataframe tbody tr th {\n",
       "        vertical-align: top;\n",
       "    }\n",
       "\n",
       "    .dataframe thead th {\n",
       "        text-align: right;\n",
       "    }\n",
       "</style>\n",
       "<table border=\"1\" class=\"dataframe\">\n",
       "  <thead>\n",
       "    <tr style=\"text-align: right;\">\n",
       "      <th></th>\n",
       "      <th>ALUNO</th>\n",
       "      <th>TURMA</th>\n",
       "      <th>Acertos parte A</th>\n",
       "      <th>Q17</th>\n",
       "      <th>Q18</th>\n",
       "      <th>Pontos - Objetiva</th>\n",
       "      <th>Pontos - Discursiva</th>\n",
       "      <th>Pontuação final</th>\n",
       "    </tr>\n",
       "  </thead>\n",
       "  <tbody>\n",
       "    <tr>\n",
       "      <th>1</th>\n",
       "      <td>OKu4gSfE</td>\n",
       "      <td>QM151</td>\n",
       "      <td>15.0</td>\n",
       "      <td>5.0</td>\n",
       "      <td>10.0</td>\n",
       "      <td>75.0</td>\n",
       "      <td>15.0</td>\n",
       "      <td>90.0</td>\n",
       "    </tr>\n",
       "    <tr>\n",
       "      <th>2</th>\n",
       "      <td>AmZw0qUO</td>\n",
       "      <td>QM141</td>\n",
       "      <td>11.0</td>\n",
       "      <td>10.0</td>\n",
       "      <td>10.0</td>\n",
       "      <td>55.0</td>\n",
       "      <td>20.0</td>\n",
       "      <td>75.0</td>\n",
       "    </tr>\n",
       "    <tr>\n",
       "      <th>3</th>\n",
       "      <td>fFvtEAT4</td>\n",
       "      <td>AM241</td>\n",
       "      <td>13.0</td>\n",
       "      <td>5.0</td>\n",
       "      <td>0.0</td>\n",
       "      <td>65.0</td>\n",
       "      <td>5.0</td>\n",
       "      <td>70.0</td>\n",
       "    </tr>\n",
       "    <tr>\n",
       "      <th>4</th>\n",
       "      <td>smFiIup1</td>\n",
       "      <td>AM241</td>\n",
       "      <td>13.0</td>\n",
       "      <td>0.0</td>\n",
       "      <td>0.0</td>\n",
       "      <td>65.0</td>\n",
       "      <td>0.0</td>\n",
       "      <td>65.0</td>\n",
       "    </tr>\n",
       "    <tr>\n",
       "      <th>5</th>\n",
       "      <td>UdBkP5fc</td>\n",
       "      <td>FM141</td>\n",
       "      <td>13.0</td>\n",
       "      <td>0.0</td>\n",
       "      <td>0.0</td>\n",
       "      <td>65.0</td>\n",
       "      <td>0.0</td>\n",
       "      <td>65.0</td>\n",
       "    </tr>\n",
       "  </tbody>\n",
       "</table>\n",
       "</div>"
      ],
      "text/plain": [
       "      ALUNO  TURMA  Acertos parte A   Q17   Q18  Pontos - Objetiva  \\\n",
       "1  OKu4gSfE  QM151             15.0   5.0  10.0               75.0   \n",
       "2  AmZw0qUO  QM141             11.0  10.0  10.0               55.0   \n",
       "3  fFvtEAT4  AM241             13.0   5.0   0.0               65.0   \n",
       "4  smFiIup1  AM241             13.0   0.0   0.0               65.0   \n",
       "5  UdBkP5fc  FM141             13.0   0.0   0.0               65.0   \n",
       "\n",
       "   Pontos - Discursiva  Pontuação final  \n",
       "1                 15.0             90.0  \n",
       "2                 20.0             75.0  \n",
       "3                  5.0             70.0  \n",
       "4                  0.0             65.0  \n",
       "5                  0.0             65.0  "
      ]
     },
     "execution_count": 8,
     "metadata": {},
     "output_type": "execute_result"
    }
   ],
   "source": [
    "df_prem_nivel2 = inpdt.awards(df_pontos,40)\n",
    "df_prem_nivel2.head()"
   ]
  },
  {
   "cell_type": "markdown",
   "metadata": {},
   "source": [
    "**Exportando os dados do nível 2 para posterior comparação com os demais níveis**"
   ]
  },
  {
   "cell_type": "code",
   "execution_count": 9,
   "metadata": {
    "ExecuteTime": {
     "end_time": "2019-10-30T12:47:31.266537Z",
     "start_time": "2019-10-30T12:47:31.240243Z"
    }
   },
   "outputs": [],
   "source": [
    "df_prem_nivel2.to_csv('nivel2python.csv')"
   ]
  },
  {
   "cell_type": "markdown",
   "metadata": {},
   "source": [
    "\n",
    "**Vendo a nota de corte para entrar nas menções honrosas**\n"
   ]
  },
  {
   "cell_type": "code",
   "execution_count": 10,
   "metadata": {
    "ExecuteTime": {
     "end_time": "2019-10-30T12:47:34.512401Z",
     "start_time": "2019-10-30T12:47:34.503561Z"
    }
   },
   "outputs": [
    {
     "data": {
      "text/plain": [
       "56.0"
      ]
     },
     "execution_count": 10,
     "metadata": {},
     "output_type": "execute_result"
    }
   ],
   "source": [
    "df_prem_nivel2['Pontuação final'].head(10).min()"
   ]
  },
  {
   "cell_type": "markdown",
   "metadata": {},
   "source": [
    "\n",
    "**Verificar quantos alunos não zeraram a prova discursiva**\n"
   ]
  },
  {
   "cell_type": "code",
   "execution_count": 11,
   "metadata": {
    "ExecuteTime": {
     "end_time": "2019-10-30T12:47:42.850116Z",
     "start_time": "2019-10-30T12:47:42.840706Z"
    }
   },
   "outputs": [
    {
     "data": {
      "text/plain": [
       "17"
      ]
     },
     "execution_count": 11,
     "metadata": {},
     "output_type": "execute_result"
    }
   ],
   "source": [
    "# alunos que não zeraram a prova discursiva. Comparar com ano passado.\n",
    "\n",
    "df_prem_nivel2['ALUNO'][df_prem_nivel2['Pontos - Discursiva'] != 0].count()"
   ]
  },
  {
   "cell_type": "markdown",
   "metadata": {},
   "source": [
    "**Describe**"
   ]
  },
  {
   "cell_type": "code",
   "execution_count": 12,
   "metadata": {
    "ExecuteTime": {
     "end_time": "2019-10-30T12:47:44.693809Z",
     "start_time": "2019-10-30T12:47:44.671835Z"
    }
   },
   "outputs": [
    {
     "data": {
      "text/html": [
       "<div>\n",
       "<style scoped>\n",
       "    .dataframe tbody tr th:only-of-type {\n",
       "        vertical-align: middle;\n",
       "    }\n",
       "\n",
       "    .dataframe tbody tr th {\n",
       "        vertical-align: top;\n",
       "    }\n",
       "\n",
       "    .dataframe thead th {\n",
       "        text-align: right;\n",
       "    }\n",
       "</style>\n",
       "<table border=\"1\" class=\"dataframe\">\n",
       "  <thead>\n",
       "    <tr style=\"text-align: right;\">\n",
       "      <th></th>\n",
       "      <th>Acertos parte A</th>\n",
       "      <th>Q17</th>\n",
       "      <th>Q18</th>\n",
       "      <th>Pontos - Objetiva</th>\n",
       "      <th>Pontos - Discursiva</th>\n",
       "      <th>Pontuação final</th>\n",
       "    </tr>\n",
       "  </thead>\n",
       "  <tbody>\n",
       "    <tr>\n",
       "      <th>count</th>\n",
       "      <td>40.000000</td>\n",
       "      <td>40.000000</td>\n",
       "      <td>40.000000</td>\n",
       "      <td>40.000000</td>\n",
       "      <td>40.000000</td>\n",
       "      <td>40.000000</td>\n",
       "    </tr>\n",
       "    <tr>\n",
       "      <th>mean</th>\n",
       "      <td>8.725000</td>\n",
       "      <td>1.800000</td>\n",
       "      <td>1.500000</td>\n",
       "      <td>43.625000</td>\n",
       "      <td>3.300000</td>\n",
       "      <td>46.925000</td>\n",
       "    </tr>\n",
       "    <tr>\n",
       "      <th>std</th>\n",
       "      <td>2.855382</td>\n",
       "      <td>2.700427</td>\n",
       "      <td>3.616203</td>\n",
       "      <td>14.276909</td>\n",
       "      <td>5.543303</td>\n",
       "      <td>16.220259</td>\n",
       "    </tr>\n",
       "    <tr>\n",
       "      <th>min</th>\n",
       "      <td>3.000000</td>\n",
       "      <td>0.000000</td>\n",
       "      <td>0.000000</td>\n",
       "      <td>15.000000</td>\n",
       "      <td>0.000000</td>\n",
       "      <td>15.000000</td>\n",
       "    </tr>\n",
       "    <tr>\n",
       "      <th>25%</th>\n",
       "      <td>6.750000</td>\n",
       "      <td>0.000000</td>\n",
       "      <td>0.000000</td>\n",
       "      <td>33.750000</td>\n",
       "      <td>0.000000</td>\n",
       "      <td>35.000000</td>\n",
       "    </tr>\n",
       "    <tr>\n",
       "      <th>50%</th>\n",
       "      <td>9.000000</td>\n",
       "      <td>0.000000</td>\n",
       "      <td>0.000000</td>\n",
       "      <td>45.000000</td>\n",
       "      <td>0.000000</td>\n",
       "      <td>49.500000</td>\n",
       "    </tr>\n",
       "    <tr>\n",
       "      <th>75%</th>\n",
       "      <td>11.000000</td>\n",
       "      <td>4.250000</td>\n",
       "      <td>0.000000</td>\n",
       "      <td>55.000000</td>\n",
       "      <td>5.000000</td>\n",
       "      <td>55.250000</td>\n",
       "    </tr>\n",
       "    <tr>\n",
       "      <th>max</th>\n",
       "      <td>15.000000</td>\n",
       "      <td>10.000000</td>\n",
       "      <td>10.000000</td>\n",
       "      <td>75.000000</td>\n",
       "      <td>20.000000</td>\n",
       "      <td>90.000000</td>\n",
       "    </tr>\n",
       "  </tbody>\n",
       "</table>\n",
       "</div>"
      ],
      "text/plain": [
       "       Acertos parte A        Q17        Q18  Pontos - Objetiva  \\\n",
       "count        40.000000  40.000000  40.000000          40.000000   \n",
       "mean          8.725000   1.800000   1.500000          43.625000   \n",
       "std           2.855382   2.700427   3.616203          14.276909   \n",
       "min           3.000000   0.000000   0.000000          15.000000   \n",
       "25%           6.750000   0.000000   0.000000          33.750000   \n",
       "50%           9.000000   0.000000   0.000000          45.000000   \n",
       "75%          11.000000   4.250000   0.000000          55.000000   \n",
       "max          15.000000  10.000000  10.000000          75.000000   \n",
       "\n",
       "       Pontos - Discursiva  Pontuação final  \n",
       "count            40.000000        40.000000  \n",
       "mean              3.300000        46.925000  \n",
       "std               5.543303        16.220259  \n",
       "min               0.000000        15.000000  \n",
       "25%               0.000000        35.000000  \n",
       "50%               0.000000        49.500000  \n",
       "75%               5.000000        55.250000  \n",
       "max              20.000000        90.000000  "
      ]
     },
     "execution_count": 12,
     "metadata": {},
     "output_type": "execute_result"
    }
   ],
   "source": [
    "df_prem_nivel2.describe()"
   ]
  },
  {
   "cell_type": "markdown",
   "metadata": {},
   "source": [
    "# Gráficos"
   ]
  },
  {
   "cell_type": "markdown",
   "metadata": {},
   "source": [
    "## Histograma e boxplot"
   ]
  },
  {
   "cell_type": "code",
   "execution_count": 13,
   "metadata": {
    "ExecuteTime": {
     "end_time": "2019-10-30T12:47:51.871993Z",
     "start_time": "2019-10-30T12:47:51.847250Z"
    }
   },
   "outputs": [
    {
     "data": {
      "text/html": [
       "<div>\n",
       "<style scoped>\n",
       "    .dataframe tbody tr th:only-of-type {\n",
       "        vertical-align: middle;\n",
       "    }\n",
       "\n",
       "    .dataframe tbody tr th {\n",
       "        vertical-align: top;\n",
       "    }\n",
       "\n",
       "    .dataframe thead th {\n",
       "        text-align: right;\n",
       "    }\n",
       "</style>\n",
       "<table border=\"1\" class=\"dataframe\">\n",
       "  <thead>\n",
       "    <tr style=\"text-align: right;\">\n",
       "      <th></th>\n",
       "      <th>Contagem</th>\n",
       "      <th>Contagem /%</th>\n",
       "      <th>Contagem cumulativa</th>\n",
       "      <th>Contagem /% cumulativa</th>\n",
       "    </tr>\n",
       "    <tr>\n",
       "      <th>Intervalos</th>\n",
       "      <th></th>\n",
       "      <th></th>\n",
       "      <th></th>\n",
       "      <th></th>\n",
       "    </tr>\n",
       "  </thead>\n",
       "  <tbody>\n",
       "    <tr>\n",
       "      <th>[0, 10)</th>\n",
       "      <td>0</td>\n",
       "      <td>0.0</td>\n",
       "      <td>0</td>\n",
       "      <td>0.0</td>\n",
       "    </tr>\n",
       "    <tr>\n",
       "      <th>[10, 20)</th>\n",
       "      <td>1</td>\n",
       "      <td>2.5</td>\n",
       "      <td>1</td>\n",
       "      <td>2.5</td>\n",
       "    </tr>\n",
       "    <tr>\n",
       "      <th>[20, 30)</th>\n",
       "      <td>6</td>\n",
       "      <td>15.0</td>\n",
       "      <td>7</td>\n",
       "      <td>17.5</td>\n",
       "    </tr>\n",
       "    <tr>\n",
       "      <th>[30, 40)</th>\n",
       "      <td>5</td>\n",
       "      <td>12.5</td>\n",
       "      <td>12</td>\n",
       "      <td>30.0</td>\n",
       "    </tr>\n",
       "    <tr>\n",
       "      <th>[40, 50)</th>\n",
       "      <td>8</td>\n",
       "      <td>20.0</td>\n",
       "      <td>20</td>\n",
       "      <td>50.0</td>\n",
       "    </tr>\n",
       "    <tr>\n",
       "      <th>[50, 60)</th>\n",
       "      <td>11</td>\n",
       "      <td>27.5</td>\n",
       "      <td>31</td>\n",
       "      <td>77.5</td>\n",
       "    </tr>\n",
       "    <tr>\n",
       "      <th>[60, 70)</th>\n",
       "      <td>6</td>\n",
       "      <td>15.0</td>\n",
       "      <td>37</td>\n",
       "      <td>92.5</td>\n",
       "    </tr>\n",
       "    <tr>\n",
       "      <th>[70, 80)</th>\n",
       "      <td>2</td>\n",
       "      <td>5.0</td>\n",
       "      <td>39</td>\n",
       "      <td>97.5</td>\n",
       "    </tr>\n",
       "    <tr>\n",
       "      <th>[80, 90)</th>\n",
       "      <td>0</td>\n",
       "      <td>0.0</td>\n",
       "      <td>39</td>\n",
       "      <td>97.5</td>\n",
       "    </tr>\n",
       "    <tr>\n",
       "      <th>[90, 100)</th>\n",
       "      <td>1</td>\n",
       "      <td>2.5</td>\n",
       "      <td>40</td>\n",
       "      <td>100.0</td>\n",
       "    </tr>\n",
       "  </tbody>\n",
       "</table>\n",
       "</div>"
      ],
      "text/plain": [
       "            Contagem  Contagem /%  Contagem cumulativa  Contagem /% cumulativa\n",
       "Intervalos                                                                    \n",
       "[0, 10)            0          0.0                    0                     0.0\n",
       "[10, 20)           1          2.5                    1                     2.5\n",
       "[20, 30)           6         15.0                    7                    17.5\n",
       "[30, 40)           5         12.5                   12                    30.0\n",
       "[40, 50)           8         20.0                   20                    50.0\n",
       "[50, 60)          11         27.5                   31                    77.5\n",
       "[60, 70)           6         15.0                   37                    92.5\n",
       "[70, 80)           2          5.0                   39                    97.5\n",
       "[80, 90)           0          0.0                   39                    97.5\n",
       "[90, 100)          1          2.5                   40                   100.0"
      ]
     },
     "execution_count": 13,
     "metadata": {},
     "output_type": "execute_result"
    }
   ],
   "source": [
    "bins_nivel2 = inpdt.bins(df_prem_nivel2)\n",
    "bins_nivel2"
   ]
  },
  {
   "cell_type": "code",
   "execution_count": 14,
   "metadata": {
    "ExecuteTime": {
     "end_time": "2019-10-30T12:47:55.388734Z",
     "start_time": "2019-10-30T12:47:55.378467Z"
    }
   },
   "outputs": [
    {
     "name": "stdout",
     "output_type": "stream",
     "text": [
      "\\begin{tabular}{lrrrr}\n",
      "\\toprule\n",
      "{} &  Contagem &  Contagem /\\% &  Contagem cumulativa &  Contagem /\\% cumulativa \\\\\n",
      "Intervalos &           &              &                      &                         \\\\\n",
      "\\midrule\n",
      "[0, 10)    &         0 &          0.0 &                    0 &                     0.0 \\\\\n",
      "[10, 20)   &         1 &          2.5 &                    1 &                     2.5 \\\\\n",
      "[20, 30)   &         6 &         15.0 &                    7 &                    17.5 \\\\\n",
      "[30, 40)   &         5 &         12.5 &                   12 &                    30.0 \\\\\n",
      "[40, 50)   &         8 &         20.0 &                   20 &                    50.0 \\\\\n",
      "[50, 60)   &        11 &         27.5 &                   31 &                    77.5 \\\\\n",
      "[60, 70)   &         6 &         15.0 &                   37 &                    92.5 \\\\\n",
      "[70, 80)   &         2 &          5.0 &                   39 &                    97.5 \\\\\n",
      "[80, 90)   &         0 &          0.0 &                   39 &                    97.5 \\\\\n",
      "[90, 100)  &         1 &          2.5 &                   40 &                   100.0 \\\\\n",
      "\\bottomrule\n",
      "\\end{tabular}\n",
      "\n"
     ]
    }
   ],
   "source": [
    "inpdt.latex(bins_nivel2)"
   ]
  },
  {
   "cell_type": "code",
   "execution_count": 15,
   "metadata": {
    "ExecuteTime": {
     "end_time": "2019-10-30T12:48:05.557981Z",
     "start_time": "2019-10-30T12:48:04.494324Z"
    }
   },
   "outputs": [
    {
     "data": {
      "image/png": "[encoded data removed]",
      "text/plain": [
       "<Figure size 864x576 with 2 Axes>"
      ]
     },
     "metadata": {
      "needs_background": "light"
     },
     "output_type": "display_data"
    }
   ],
   "source": [
    "fig1, (ax2, ax1) = plt.subplots(figsize=(12, 8),\n",
    "                                nrows=2,\n",
    "                                sharex=True,\n",
    "                                gridspec_kw={\n",
    "                                    \"height_ratios\": (.15, .85),\n",
    "                                    'hspace': 0.02\n",
    "                                })\n",
    "\n",
    "fig1.subplots_adjust(top=0.90)\n",
    "fig1.suptitle('Análise das notas - Nível 2', fontsize=20)\n",
    "\n",
    "plots.boxplot(df_prem_nivel2, 'Pontuação final', ax=ax2)\n",
    "plots.histogram(df_prem_nivel2, 'Pontuação final', ax=ax1)\n",
    "\n",
    "figname = 'images/hist_nivel2'\n",
    "fig1.savefig(figname, bbox_inches='tight', dpi=300)"
   ]
  },
  {
   "cell_type": "markdown",
   "metadata": {},
   "source": [
    "## Alunos por turma"
   ]
  },
  {
   "cell_type": "code",
   "execution_count": 16,
   "metadata": {
    "ExecuteTime": {
     "end_time": "2019-10-30T12:48:48.410394Z",
     "start_time": "2019-10-30T12:48:48.365032Z"
    }
   },
   "outputs": [
    {
     "data": {
      "text/html": [
       "<div>\n",
       "<style scoped>\n",
       "    .dataframe tbody tr th:only-of-type {\n",
       "        vertical-align: middle;\n",
       "    }\n",
       "\n",
       "    .dataframe tbody tr th {\n",
       "        vertical-align: top;\n",
       "    }\n",
       "\n",
       "    .dataframe thead th {\n",
       "        text-align: right;\n",
       "    }\n",
       "</style>\n",
       "<table border=\"1\" class=\"dataframe\">\n",
       "  <thead>\n",
       "    <tr style=\"text-align: right;\">\n",
       "      <th></th>\n",
       "      <th>ALUNO</th>\n",
       "    </tr>\n",
       "    <tr>\n",
       "      <th>TURMA</th>\n",
       "      <th></th>\n",
       "    </tr>\n",
       "  </thead>\n",
       "  <tbody>\n",
       "    <tr>\n",
       "      <th>AM241</th>\n",
       "      <td>8</td>\n",
       "    </tr>\n",
       "    <tr>\n",
       "      <th>AM251</th>\n",
       "      <td>4</td>\n",
       "    </tr>\n",
       "    <tr>\n",
       "      <th>BM141</th>\n",
       "      <td>1</td>\n",
       "    </tr>\n",
       "    <tr>\n",
       "      <th>BM151</th>\n",
       "      <td>3</td>\n",
       "    </tr>\n",
       "    <tr>\n",
       "      <th>FM141</th>\n",
       "      <td>4</td>\n",
       "    </tr>\n",
       "    <tr>\n",
       "      <th>FM151</th>\n",
       "      <td>3</td>\n",
       "    </tr>\n",
       "    <tr>\n",
       "      <th>MAM241</th>\n",
       "      <td>3</td>\n",
       "    </tr>\n",
       "    <tr>\n",
       "      <th>QM141</th>\n",
       "      <td>8</td>\n",
       "    </tr>\n",
       "    <tr>\n",
       "      <th>QM151</th>\n",
       "      <td>6</td>\n",
       "    </tr>\n",
       "    <tr>\n",
       "      <th>Total</th>\n",
       "      <td>40</td>\n",
       "    </tr>\n",
       "  </tbody>\n",
       "</table>\n",
       "</div>"
      ],
      "text/plain": [
       "        ALUNO\n",
       "TURMA        \n",
       "AM241       8\n",
       "AM251       4\n",
       "BM141       1\n",
       "BM151       3\n",
       "FM141       4\n",
       "FM151       3\n",
       "MAM241      3\n",
       "QM141       8\n",
       "QM151       6\n",
       "Total      40"
      ]
     },
     "execution_count": 16,
     "metadata": {},
     "output_type": "execute_result"
    }
   ],
   "source": [
    "turmas_nivel2 = inpdt.pivot_tables(df_prem_nivel2, 'ALUNO', 'TURMA', None)\n",
    "turmas_nivel2"
   ]
  },
  {
   "cell_type": "code",
   "execution_count": 17,
   "metadata": {
    "ExecuteTime": {
     "end_time": "2019-10-30T12:48:49.950656Z",
     "start_time": "2019-10-30T12:48:49.939055Z"
    }
   },
   "outputs": [
    {
     "data": {
      "text/html": [
       "<div>\n",
       "<style scoped>\n",
       "    .dataframe tbody tr th:only-of-type {\n",
       "        vertical-align: middle;\n",
       "    }\n",
       "\n",
       "    .dataframe tbody tr th {\n",
       "        vertical-align: top;\n",
       "    }\n",
       "\n",
       "    .dataframe thead th {\n",
       "        text-align: right;\n",
       "    }\n",
       "</style>\n",
       "<table border=\"1\" class=\"dataframe\">\n",
       "  <thead>\n",
       "    <tr style=\"text-align: right;\">\n",
       "      <th>TURMA</th>\n",
       "      <th>AM241</th>\n",
       "      <th>AM251</th>\n",
       "      <th>BM141</th>\n",
       "      <th>BM151</th>\n",
       "      <th>FM141</th>\n",
       "      <th>FM151</th>\n",
       "      <th>MAM241</th>\n",
       "      <th>QM141</th>\n",
       "      <th>QM151</th>\n",
       "      <th>Total</th>\n",
       "    </tr>\n",
       "  </thead>\n",
       "  <tbody>\n",
       "    <tr>\n",
       "      <th>ALUNO</th>\n",
       "      <td>8</td>\n",
       "      <td>4</td>\n",
       "      <td>1</td>\n",
       "      <td>3</td>\n",
       "      <td>4</td>\n",
       "      <td>3</td>\n",
       "      <td>3</td>\n",
       "      <td>8</td>\n",
       "      <td>6</td>\n",
       "      <td>40</td>\n",
       "    </tr>\n",
       "  </tbody>\n",
       "</table>\n",
       "</div>"
      ],
      "text/plain": [
       "TURMA  AM241  AM251  BM141  BM151  FM141  FM151  MAM241  QM141  QM151  Total\n",
       "ALUNO      8      4      1      3      4      3       3      8      6     40"
      ]
     },
     "execution_count": 17,
     "metadata": {},
     "output_type": "execute_result"
    }
   ],
   "source": [
    "turmas_nivel2.T"
   ]
  },
  {
   "cell_type": "code",
   "execution_count": 18,
   "metadata": {
    "ExecuteTime": {
     "end_time": "2019-10-30T12:48:51.301386Z",
     "start_time": "2019-10-30T12:48:51.291252Z"
    }
   },
   "outputs": [
    {
     "name": "stdout",
     "output_type": "stream",
     "text": [
      "\\begin{tabular}{lrrrrrrrrrr}\n",
      "\\toprule\n",
      "TURMA &  AM241 &  AM251 &  BM141 &  BM151 &  FM141 &  FM151 &  MAM241 &  QM141 &  QM151 &  Total \\\\\n",
      "\\midrule\n",
      "ALUNO &      8 &      4 &      1 &      3 &      4 &      3 &       3 &      8 &      6 &     40 \\\\\n",
      "\\bottomrule\n",
      "\\end{tabular}\n",
      "\n"
     ]
    }
   ],
   "source": [
    "inpdt.latex(turmas_nivel2.T)"
   ]
  },
  {
   "cell_type": "code",
   "execution_count": 19,
   "metadata": {
    "ExecuteTime": {
     "end_time": "2019-10-30T12:49:01.341397Z",
     "start_time": "2019-10-30T12:49:00.751882Z"
    }
   },
   "outputs": [
    {
     "data": {
      "image/png": "[encoded data removed]",
      "text/plain": [
       "<Figure size 864x432 with 1 Axes>"
      ]
     },
     "metadata": {},
     "output_type": "display_data"
    }
   ],
   "source": [
    "fig2, axarr = plt.subplots(nrows=1,\n",
    "                           ncols=1,\n",
    "                           figsize=(12, 6),\n",
    "                           facecolor=(1.0, 1.0, 1.0))\n",
    "\n",
    "values = inpdt.pivot_data(turmas_nivel2, 0)\n",
    "labels = inpdt.pivot_index(turmas_nivel2)\n",
    "\n",
    "plots.plot_pizza(values,\n",
    "                 labels,\n",
    "                 'Alunos participantes por turma - Nível 2',\n",
    "                 ax=axarr)\n",
    "\n",
    "figname = 'images/turmas_nivel2'\n",
    "fig2.savefig(figname, bbox_inches='tight', dpi=300)"
   ]
  },
  {
   "cell_type": "markdown",
   "metadata": {},
   "source": [
    "## Organizando a tabela de resumo estatístico"
   ]
  },
  {
   "cell_type": "code",
   "execution_count": 20,
   "metadata": {
    "ExecuteTime": {
     "end_time": "2019-10-30T12:50:56.227498Z",
     "start_time": "2019-10-30T12:50:56.204605Z"
    }
   },
   "outputs": [
    {
     "data": {
      "text/html": [
       "<div>\n",
       "<style scoped>\n",
       "    .dataframe tbody tr th:only-of-type {\n",
       "        vertical-align: middle;\n",
       "    }\n",
       "\n",
       "    .dataframe tbody tr th {\n",
       "        vertical-align: top;\n",
       "    }\n",
       "\n",
       "    .dataframe thead th {\n",
       "        text-align: right;\n",
       "    }\n",
       "</style>\n",
       "<table border=\"1\" class=\"dataframe\">\n",
       "  <thead>\n",
       "    <tr style=\"text-align: right;\">\n",
       "      <th></th>\n",
       "      <th>Acertos parte A</th>\n",
       "      <th>Q17</th>\n",
       "      <th>Q18</th>\n",
       "      <th>Pontos - Objetiva</th>\n",
       "      <th>Pontos - Discursiva</th>\n",
       "      <th>Pontuação final</th>\n",
       "    </tr>\n",
       "  </thead>\n",
       "  <tbody>\n",
       "    <tr>\n",
       "      <th>count</th>\n",
       "      <td>40.000000</td>\n",
       "      <td>40.000000</td>\n",
       "      <td>40.000000</td>\n",
       "      <td>40.000000</td>\n",
       "      <td>40.000000</td>\n",
       "      <td>40.000000</td>\n",
       "    </tr>\n",
       "    <tr>\n",
       "      <th>mean</th>\n",
       "      <td>8.725000</td>\n",
       "      <td>1.800000</td>\n",
       "      <td>1.500000</td>\n",
       "      <td>43.625000</td>\n",
       "      <td>3.300000</td>\n",
       "      <td>46.925000</td>\n",
       "    </tr>\n",
       "    <tr>\n",
       "      <th>std</th>\n",
       "      <td>2.855382</td>\n",
       "      <td>2.700427</td>\n",
       "      <td>3.616203</td>\n",
       "      <td>14.276909</td>\n",
       "      <td>5.543303</td>\n",
       "      <td>16.220259</td>\n",
       "    </tr>\n",
       "    <tr>\n",
       "      <th>min</th>\n",
       "      <td>3.000000</td>\n",
       "      <td>0.000000</td>\n",
       "      <td>0.000000</td>\n",
       "      <td>15.000000</td>\n",
       "      <td>0.000000</td>\n",
       "      <td>15.000000</td>\n",
       "    </tr>\n",
       "    <tr>\n",
       "      <th>25%</th>\n",
       "      <td>6.750000</td>\n",
       "      <td>0.000000</td>\n",
       "      <td>0.000000</td>\n",
       "      <td>33.750000</td>\n",
       "      <td>0.000000</td>\n",
       "      <td>35.000000</td>\n",
       "    </tr>\n",
       "    <tr>\n",
       "      <th>50%</th>\n",
       "      <td>9.000000</td>\n",
       "      <td>0.000000</td>\n",
       "      <td>0.000000</td>\n",
       "      <td>45.000000</td>\n",
       "      <td>0.000000</td>\n",
       "      <td>49.500000</td>\n",
       "    </tr>\n",
       "    <tr>\n",
       "      <th>75%</th>\n",
       "      <td>11.000000</td>\n",
       "      <td>4.250000</td>\n",
       "      <td>0.000000</td>\n",
       "      <td>55.000000</td>\n",
       "      <td>5.000000</td>\n",
       "      <td>55.250000</td>\n",
       "    </tr>\n",
       "    <tr>\n",
       "      <th>max</th>\n",
       "      <td>15.000000</td>\n",
       "      <td>10.000000</td>\n",
       "      <td>10.000000</td>\n",
       "      <td>75.000000</td>\n",
       "      <td>20.000000</td>\n",
       "      <td>90.000000</td>\n",
       "    </tr>\n",
       "  </tbody>\n",
       "</table>\n",
       "</div>"
      ],
      "text/plain": [
       "       Acertos parte A        Q17        Q18  Pontos - Objetiva  \\\n",
       "count        40.000000  40.000000  40.000000          40.000000   \n",
       "mean          8.725000   1.800000   1.500000          43.625000   \n",
       "std           2.855382   2.700427   3.616203          14.276909   \n",
       "min           3.000000   0.000000   0.000000          15.000000   \n",
       "25%           6.750000   0.000000   0.000000          33.750000   \n",
       "50%           9.000000   0.000000   0.000000          45.000000   \n",
       "75%          11.000000   4.250000   0.000000          55.000000   \n",
       "max          15.000000  10.000000  10.000000          75.000000   \n",
       "\n",
       "       Pontos - Discursiva  Pontuação final  \n",
       "count            40.000000        40.000000  \n",
       "mean              3.300000        46.925000  \n",
       "std               5.543303        16.220259  \n",
       "min               0.000000        15.000000  \n",
       "25%               0.000000        35.000000  \n",
       "50%               0.000000        49.500000  \n",
       "75%               5.000000        55.250000  \n",
       "max              20.000000        90.000000  "
      ]
     },
     "execution_count": 20,
     "metadata": {},
     "output_type": "execute_result"
    }
   ],
   "source": [
    "df_prem_nivel2.describe()"
   ]
  },
  {
   "cell_type": "code",
   "execution_count": 21,
   "metadata": {
    "ExecuteTime": {
     "end_time": "2019-10-30T12:50:58.303432Z",
     "start_time": "2019-10-30T12:50:58.277324Z"
    }
   },
   "outputs": [
    {
     "data": {
      "text/html": [
       "<div>\n",
       "<style scoped>\n",
       "    .dataframe tbody tr th:only-of-type {\n",
       "        vertical-align: middle;\n",
       "    }\n",
       "\n",
       "    .dataframe tbody tr th {\n",
       "        vertical-align: top;\n",
       "    }\n",
       "\n",
       "    .dataframe thead th {\n",
       "        text-align: right;\n",
       "    }\n",
       "</style>\n",
       "<table border=\"1\" class=\"dataframe\">\n",
       "  <thead>\n",
       "    <tr style=\"text-align: right;\">\n",
       "      <th></th>\n",
       "      <th>mean</th>\n",
       "      <th>std</th>\n",
       "      <th>min</th>\n",
       "      <th>25%</th>\n",
       "      <th>50%</th>\n",
       "      <th>75%</th>\n",
       "      <th>max</th>\n",
       "      <th>IQR</th>\n",
       "    </tr>\n",
       "  </thead>\n",
       "  <tbody>\n",
       "    <tr>\n",
       "      <th>Pontos - Objetiva</th>\n",
       "      <td>43.62</td>\n",
       "      <td>14.28</td>\n",
       "      <td>15.0</td>\n",
       "      <td>33.75</td>\n",
       "      <td>45.0</td>\n",
       "      <td>55.00</td>\n",
       "      <td>75.0</td>\n",
       "      <td>21.25</td>\n",
       "    </tr>\n",
       "    <tr>\n",
       "      <th>Q17</th>\n",
       "      <td>1.80</td>\n",
       "      <td>2.70</td>\n",
       "      <td>0.0</td>\n",
       "      <td>0.00</td>\n",
       "      <td>0.0</td>\n",
       "      <td>4.25</td>\n",
       "      <td>10.0</td>\n",
       "      <td>4.25</td>\n",
       "    </tr>\n",
       "    <tr>\n",
       "      <th>Q18</th>\n",
       "      <td>1.50</td>\n",
       "      <td>3.62</td>\n",
       "      <td>0.0</td>\n",
       "      <td>0.00</td>\n",
       "      <td>0.0</td>\n",
       "      <td>0.00</td>\n",
       "      <td>10.0</td>\n",
       "      <td>0.00</td>\n",
       "    </tr>\n",
       "    <tr>\n",
       "      <th>Pontos - Discursiva</th>\n",
       "      <td>3.30</td>\n",
       "      <td>5.54</td>\n",
       "      <td>0.0</td>\n",
       "      <td>0.00</td>\n",
       "      <td>0.0</td>\n",
       "      <td>5.00</td>\n",
       "      <td>20.0</td>\n",
       "      <td>5.00</td>\n",
       "    </tr>\n",
       "    <tr>\n",
       "      <th>Pontuação final</th>\n",
       "      <td>46.92</td>\n",
       "      <td>16.22</td>\n",
       "      <td>15.0</td>\n",
       "      <td>35.00</td>\n",
       "      <td>49.5</td>\n",
       "      <td>55.25</td>\n",
       "      <td>90.0</td>\n",
       "      <td>20.25</td>\n",
       "    </tr>\n",
       "  </tbody>\n",
       "</table>\n",
       "</div>"
      ],
      "text/plain": [
       "                      mean    std   min    25%   50%    75%   max    IQR\n",
       "Pontos - Objetiva    43.62  14.28  15.0  33.75  45.0  55.00  75.0  21.25\n",
       "Q17                   1.80   2.70   0.0   0.00   0.0   4.25  10.0   4.25\n",
       "Q18                   1.50   3.62   0.0   0.00   0.0   0.00  10.0   0.00\n",
       "Pontos - Discursiva   3.30   5.54   0.0   0.00   0.0   5.00  20.0   5.00\n",
       "Pontuação final      46.92  16.22  15.0  35.00  49.5  55.25  90.0  20.25"
      ]
     },
     "execution_count": 21,
     "metadata": {},
     "output_type": "execute_result"
    }
   ],
   "source": [
    "stats_nivel2 = inpdt.stats_table(df_prem_nivel2.describe())\n",
    "stats_nivel2"
   ]
  },
  {
   "cell_type": "code",
   "execution_count": 22,
   "metadata": {
    "ExecuteTime": {
     "end_time": "2019-10-30T12:51:00.607542Z",
     "start_time": "2019-10-30T12:51:00.596737Z"
    }
   },
   "outputs": [
    {
     "name": "stdout",
     "output_type": "stream",
     "text": [
      "\\begin{tabular}{lrrrrrrrr}\n",
      "\\toprule\n",
      "{} &   mean &    std &   min &    25\\% &   50\\% &    75\\% &   max &    IQR \\\\\n",
      "\\midrule\n",
      "Pontos - Objetiva   &  43.62 &  14.28 &  15.0 &  33.75 &  45.0 &  55.00 &  75.0 &  21.25 \\\\\n",
      "Q17                 &   1.80 &   2.70 &   0.0 &   0.00 &   0.0 &   4.25 &  10.0 &   4.25 \\\\\n",
      "Q18                 &   1.50 &   3.62 &   0.0 &   0.00 &   0.0 &   0.00 &  10.0 &   0.00 \\\\\n",
      "Pontos - Discursiva &   3.30 &   5.54 &   0.0 &   0.00 &   0.0 &   5.00 &  20.0 &   5.00 \\\\\n",
      "Pontuação final     &  46.92 &  16.22 &  15.0 &  35.00 &  49.5 &  55.25 &  90.0 &  20.25 \\\\\n",
      "\\bottomrule\n",
      "\\end{tabular}\n",
      "\n"
     ]
    }
   ],
   "source": [
    "inpdt.latex(stats_nivel2)"
   ]
  },
  {
   "cell_type": "markdown",
   "metadata": {},
   "source": [
    "## Análise de semestre e turno dos premiados"
   ]
  },
  {
   "cell_type": "code",
   "execution_count": 24,
   "metadata": {
    "ExecuteTime": {
     "end_time": "2019-10-30T12:51:23.463231Z",
     "start_time": "2019-10-30T12:51:23.442749Z"
    }
   },
   "outputs": [
    {
     "data": {
      "text/html": [
       "<div>\n",
       "<style scoped>\n",
       "    .dataframe tbody tr th:only-of-type {\n",
       "        vertical-align: middle;\n",
       "    }\n",
       "\n",
       "    .dataframe tbody tr th {\n",
       "        vertical-align: top;\n",
       "    }\n",
       "\n",
       "    .dataframe thead th {\n",
       "        text-align: right;\n",
       "    }\n",
       "</style>\n",
       "<table border=\"1\" class=\"dataframe\">\n",
       "  <thead>\n",
       "    <tr style=\"text-align: right;\">\n",
       "      <th></th>\n",
       "      <th>ALUNO</th>\n",
       "      <th>TURMA</th>\n",
       "      <th>Acertos parte A</th>\n",
       "      <th>Q17</th>\n",
       "      <th>Q18</th>\n",
       "      <th>Pontos - Objetiva</th>\n",
       "      <th>Pontos - Discursiva</th>\n",
       "      <th>Pontuação final</th>\n",
       "    </tr>\n",
       "  </thead>\n",
       "  <tbody>\n",
       "    <tr>\n",
       "      <th>1</th>\n",
       "      <td>OKu4gSfE</td>\n",
       "      <td>QM151</td>\n",
       "      <td>15.0</td>\n",
       "      <td>5.0</td>\n",
       "      <td>10.0</td>\n",
       "      <td>75.0</td>\n",
       "      <td>15.0</td>\n",
       "      <td>90.0</td>\n",
       "    </tr>\n",
       "    <tr>\n",
       "      <th>2</th>\n",
       "      <td>AmZw0qUO</td>\n",
       "      <td>QM141</td>\n",
       "      <td>11.0</td>\n",
       "      <td>10.0</td>\n",
       "      <td>10.0</td>\n",
       "      <td>55.0</td>\n",
       "      <td>20.0</td>\n",
       "      <td>75.0</td>\n",
       "    </tr>\n",
       "    <tr>\n",
       "      <th>3</th>\n",
       "      <td>fFvtEAT4</td>\n",
       "      <td>AM241</td>\n",
       "      <td>13.0</td>\n",
       "      <td>5.0</td>\n",
       "      <td>0.0</td>\n",
       "      <td>65.0</td>\n",
       "      <td>5.0</td>\n",
       "      <td>70.0</td>\n",
       "    </tr>\n",
       "    <tr>\n",
       "      <th>4</th>\n",
       "      <td>smFiIup1</td>\n",
       "      <td>AM241</td>\n",
       "      <td>13.0</td>\n",
       "      <td>0.0</td>\n",
       "      <td>0.0</td>\n",
       "      <td>65.0</td>\n",
       "      <td>0.0</td>\n",
       "      <td>65.0</td>\n",
       "    </tr>\n",
       "    <tr>\n",
       "      <th>5</th>\n",
       "      <td>UdBkP5fc</td>\n",
       "      <td>FM141</td>\n",
       "      <td>13.0</td>\n",
       "      <td>0.0</td>\n",
       "      <td>0.0</td>\n",
       "      <td>65.0</td>\n",
       "      <td>0.0</td>\n",
       "      <td>65.0</td>\n",
       "    </tr>\n",
       "    <tr>\n",
       "      <th>6</th>\n",
       "      <td>XBOoSJsS</td>\n",
       "      <td>MAM241</td>\n",
       "      <td>11.0</td>\n",
       "      <td>8.0</td>\n",
       "      <td>0.0</td>\n",
       "      <td>55.0</td>\n",
       "      <td>8.0</td>\n",
       "      <td>63.0</td>\n",
       "    </tr>\n",
       "    <tr>\n",
       "      <th>7</th>\n",
       "      <td>okapRKkD</td>\n",
       "      <td>QM141</td>\n",
       "      <td>9.0</td>\n",
       "      <td>6.0</td>\n",
       "      <td>10.0</td>\n",
       "      <td>45.0</td>\n",
       "      <td>16.0</td>\n",
       "      <td>61.0</td>\n",
       "    </tr>\n",
       "    <tr>\n",
       "      <th>8</th>\n",
       "      <td>XMZciuPO</td>\n",
       "      <td>MAM241</td>\n",
       "      <td>11.0</td>\n",
       "      <td>5.0</td>\n",
       "      <td>0.0</td>\n",
       "      <td>55.0</td>\n",
       "      <td>5.0</td>\n",
       "      <td>60.0</td>\n",
       "    </tr>\n",
       "    <tr>\n",
       "      <th>9</th>\n",
       "      <td>FWwLq15p</td>\n",
       "      <td>QM151</td>\n",
       "      <td>12.0</td>\n",
       "      <td>0.0</td>\n",
       "      <td>0.0</td>\n",
       "      <td>60.0</td>\n",
       "      <td>0.0</td>\n",
       "      <td>60.0</td>\n",
       "    </tr>\n",
       "    <tr>\n",
       "      <th>10</th>\n",
       "      <td>6yV1cBPt</td>\n",
       "      <td>BM151</td>\n",
       "      <td>11.0</td>\n",
       "      <td>1.0</td>\n",
       "      <td>0.0</td>\n",
       "      <td>55.0</td>\n",
       "      <td>1.0</td>\n",
       "      <td>56.0</td>\n",
       "    </tr>\n",
       "  </tbody>\n",
       "</table>\n",
       "</div>"
      ],
      "text/plain": [
       "       ALUNO   TURMA  Acertos parte A   Q17   Q18  Pontos - Objetiva  \\\n",
       "1   OKu4gSfE   QM151             15.0   5.0  10.0               75.0   \n",
       "2   AmZw0qUO   QM141             11.0  10.0  10.0               55.0   \n",
       "3   fFvtEAT4   AM241             13.0   5.0   0.0               65.0   \n",
       "4   smFiIup1   AM241             13.0   0.0   0.0               65.0   \n",
       "5   UdBkP5fc   FM141             13.0   0.0   0.0               65.0   \n",
       "6   XBOoSJsS  MAM241             11.0   8.0   0.0               55.0   \n",
       "7   okapRKkD   QM141              9.0   6.0  10.0               45.0   \n",
       "8   XMZciuPO  MAM241             11.0   5.0   0.0               55.0   \n",
       "9   FWwLq15p   QM151             12.0   0.0   0.0               60.0   \n",
       "10  6yV1cBPt   BM151             11.0   1.0   0.0               55.0   \n",
       "\n",
       "    Pontos - Discursiva  Pontuação final  \n",
       "1                  15.0             90.0  \n",
       "2                  20.0             75.0  \n",
       "3                   5.0             70.0  \n",
       "4                   0.0             65.0  \n",
       "5                   0.0             65.0  \n",
       "6                   8.0             63.0  \n",
       "7                  16.0             61.0  \n",
       "8                   5.0             60.0  \n",
       "9                   0.0             60.0  \n",
       "10                  1.0             56.0  "
      ]
     },
     "execution_count": 24,
     "metadata": {},
     "output_type": "execute_result"
    }
   ],
   "source": [
    "df_10_nivel2 = df_prem_nivel2.head(10)\n",
    "df_10_nivel2"
   ]
  },
  {
   "cell_type": "code",
   "execution_count": 26,
   "metadata": {
    "ExecuteTime": {
     "end_time": "2019-10-30T12:51:29.708519Z",
     "start_time": "2019-10-30T12:51:29.596540Z"
    }
   },
   "outputs": [
    {
     "data": {
      "text/html": [
       "<div>\n",
       "<style scoped>\n",
       "    .dataframe tbody tr th:only-of-type {\n",
       "        vertical-align: middle;\n",
       "    }\n",
       "\n",
       "    .dataframe tbody tr th {\n",
       "        vertical-align: top;\n",
       "    }\n",
       "\n",
       "    .dataframe thead th {\n",
       "        text-align: right;\n",
       "    }\n",
       "</style>\n",
       "<table border=\"1\" class=\"dataframe\">\n",
       "  <thead>\n",
       "    <tr style=\"text-align: right;\">\n",
       "      <th></th>\n",
       "      <th>ALUNO</th>\n",
       "      <th>TURMA</th>\n",
       "      <th>Acertos parte A</th>\n",
       "      <th>Q17</th>\n",
       "      <th>Q18</th>\n",
       "      <th>Pontos - Objetiva</th>\n",
       "      <th>Pontos - Discursiva</th>\n",
       "      <th>Pontuação final</th>\n",
       "      <th>cod</th>\n",
       "      <th>num</th>\n",
       "      <th>Período</th>\n",
       "      <th>Turno</th>\n",
       "    </tr>\n",
       "  </thead>\n",
       "  <tbody>\n",
       "    <tr>\n",
       "      <th>1</th>\n",
       "      <td>OKu4gSfE</td>\n",
       "      <td>QM151</td>\n",
       "      <td>15.0</td>\n",
       "      <td>5.0</td>\n",
       "      <td>10.0</td>\n",
       "      <td>75.0</td>\n",
       "      <td>15.0</td>\n",
       "      <td>90.0</td>\n",
       "      <td>QM</td>\n",
       "      <td>151</td>\n",
       "      <td>5º período</td>\n",
       "      <td>Manhã</td>\n",
       "    </tr>\n",
       "    <tr>\n",
       "      <th>2</th>\n",
       "      <td>AmZw0qUO</td>\n",
       "      <td>QM141</td>\n",
       "      <td>11.0</td>\n",
       "      <td>10.0</td>\n",
       "      <td>10.0</td>\n",
       "      <td>55.0</td>\n",
       "      <td>20.0</td>\n",
       "      <td>75.0</td>\n",
       "      <td>QM</td>\n",
       "      <td>141</td>\n",
       "      <td>4º período</td>\n",
       "      <td>Manhã</td>\n",
       "    </tr>\n",
       "    <tr>\n",
       "      <th>3</th>\n",
       "      <td>fFvtEAT4</td>\n",
       "      <td>AM241</td>\n",
       "      <td>13.0</td>\n",
       "      <td>5.0</td>\n",
       "      <td>0.0</td>\n",
       "      <td>65.0</td>\n",
       "      <td>5.0</td>\n",
       "      <td>70.0</td>\n",
       "      <td>AM</td>\n",
       "      <td>241</td>\n",
       "      <td>4º período</td>\n",
       "      <td>Tarde</td>\n",
       "    </tr>\n",
       "    <tr>\n",
       "      <th>4</th>\n",
       "      <td>smFiIup1</td>\n",
       "      <td>AM241</td>\n",
       "      <td>13.0</td>\n",
       "      <td>0.0</td>\n",
       "      <td>0.0</td>\n",
       "      <td>65.0</td>\n",
       "      <td>0.0</td>\n",
       "      <td>65.0</td>\n",
       "      <td>AM</td>\n",
       "      <td>241</td>\n",
       "      <td>4º período</td>\n",
       "      <td>Tarde</td>\n",
       "    </tr>\n",
       "    <tr>\n",
       "      <th>5</th>\n",
       "      <td>UdBkP5fc</td>\n",
       "      <td>FM141</td>\n",
       "      <td>13.0</td>\n",
       "      <td>0.0</td>\n",
       "      <td>0.0</td>\n",
       "      <td>65.0</td>\n",
       "      <td>0.0</td>\n",
       "      <td>65.0</td>\n",
       "      <td>FM</td>\n",
       "      <td>141</td>\n",
       "      <td>4º período</td>\n",
       "      <td>Manhã</td>\n",
       "    </tr>\n",
       "    <tr>\n",
       "      <th>6</th>\n",
       "      <td>XBOoSJsS</td>\n",
       "      <td>MAM241</td>\n",
       "      <td>11.0</td>\n",
       "      <td>8.0</td>\n",
       "      <td>0.0</td>\n",
       "      <td>55.0</td>\n",
       "      <td>8.0</td>\n",
       "      <td>63.0</td>\n",
       "      <td>MAM</td>\n",
       "      <td>241</td>\n",
       "      <td>4º período</td>\n",
       "      <td>Tarde</td>\n",
       "    </tr>\n",
       "    <tr>\n",
       "      <th>7</th>\n",
       "      <td>okapRKkD</td>\n",
       "      <td>QM141</td>\n",
       "      <td>9.0</td>\n",
       "      <td>6.0</td>\n",
       "      <td>10.0</td>\n",
       "      <td>45.0</td>\n",
       "      <td>16.0</td>\n",
       "      <td>61.0</td>\n",
       "      <td>QM</td>\n",
       "      <td>141</td>\n",
       "      <td>4º período</td>\n",
       "      <td>Manhã</td>\n",
       "    </tr>\n",
       "    <tr>\n",
       "      <th>8</th>\n",
       "      <td>XMZciuPO</td>\n",
       "      <td>MAM241</td>\n",
       "      <td>11.0</td>\n",
       "      <td>5.0</td>\n",
       "      <td>0.0</td>\n",
       "      <td>55.0</td>\n",
       "      <td>5.0</td>\n",
       "      <td>60.0</td>\n",
       "      <td>MAM</td>\n",
       "      <td>241</td>\n",
       "      <td>4º período</td>\n",
       "      <td>Tarde</td>\n",
       "    </tr>\n",
       "    <tr>\n",
       "      <th>9</th>\n",
       "      <td>FWwLq15p</td>\n",
       "      <td>QM151</td>\n",
       "      <td>12.0</td>\n",
       "      <td>0.0</td>\n",
       "      <td>0.0</td>\n",
       "      <td>60.0</td>\n",
       "      <td>0.0</td>\n",
       "      <td>60.0</td>\n",
       "      <td>QM</td>\n",
       "      <td>151</td>\n",
       "      <td>5º período</td>\n",
       "      <td>Manhã</td>\n",
       "    </tr>\n",
       "    <tr>\n",
       "      <th>10</th>\n",
       "      <td>6yV1cBPt</td>\n",
       "      <td>BM151</td>\n",
       "      <td>11.0</td>\n",
       "      <td>1.0</td>\n",
       "      <td>0.0</td>\n",
       "      <td>55.0</td>\n",
       "      <td>1.0</td>\n",
       "      <td>56.0</td>\n",
       "      <td>BM</td>\n",
       "      <td>151</td>\n",
       "      <td>5º período</td>\n",
       "      <td>Manhã</td>\n",
       "    </tr>\n",
       "  </tbody>\n",
       "</table>\n",
       "</div>"
      ],
      "text/plain": [
       "       ALUNO   TURMA  Acertos parte A   Q17   Q18  Pontos - Objetiva  \\\n",
       "1   OKu4gSfE   QM151             15.0   5.0  10.0               75.0   \n",
       "2   AmZw0qUO   QM141             11.0  10.0  10.0               55.0   \n",
       "3   fFvtEAT4   AM241             13.0   5.0   0.0               65.0   \n",
       "4   smFiIup1   AM241             13.0   0.0   0.0               65.0   \n",
       "5   UdBkP5fc   FM141             13.0   0.0   0.0               65.0   \n",
       "6   XBOoSJsS  MAM241             11.0   8.0   0.0               55.0   \n",
       "7   okapRKkD   QM141              9.0   6.0  10.0               45.0   \n",
       "8   XMZciuPO  MAM241             11.0   5.0   0.0               55.0   \n",
       "9   FWwLq15p   QM151             12.0   0.0   0.0               60.0   \n",
       "10  6yV1cBPt   BM151             11.0   1.0   0.0               55.0   \n",
       "\n",
       "    Pontos - Discursiva  Pontuação final  cod  num     Período  Turno  \n",
       "1                  15.0             90.0   QM  151  5º período  Manhã  \n",
       "2                  20.0             75.0   QM  141  4º período  Manhã  \n",
       "3                   5.0             70.0   AM  241  4º período  Tarde  \n",
       "4                   0.0             65.0   AM  241  4º período  Tarde  \n",
       "5                   0.0             65.0   FM  141  4º período  Manhã  \n",
       "6                   8.0             63.0  MAM  241  4º período  Tarde  \n",
       "7                  16.0             61.0   QM  141  4º período  Manhã  \n",
       "8                   5.0             60.0  MAM  241  4º período  Tarde  \n",
       "9                   0.0             60.0   QM  151  5º período  Manhã  \n",
       "10                  1.0             56.0   BM  151  5º período  Manhã  "
      ]
     },
     "execution_count": 26,
     "metadata": {},
     "output_type": "execute_result"
    }
   ],
   "source": [
    "df_10_nivel2 = inpdt.semester_shift(df_10_nivel2)\n",
    "df_10_nivel2"
   ]
  },
  {
   "cell_type": "code",
   "execution_count": 27,
   "metadata": {
    "ExecuteTime": {
     "end_time": "2019-10-30T12:51:48.980276Z",
     "start_time": "2019-10-30T12:51:48.931360Z"
    }
   },
   "outputs": [
    {
     "data": {
      "text/html": [
       "<div>\n",
       "<style scoped>\n",
       "    .dataframe tbody tr th:only-of-type {\n",
       "        vertical-align: middle;\n",
       "    }\n",
       "\n",
       "    .dataframe tbody tr th {\n",
       "        vertical-align: top;\n",
       "    }\n",
       "\n",
       "    .dataframe thead th {\n",
       "        text-align: right;\n",
       "    }\n",
       "</style>\n",
       "<table border=\"1\" class=\"dataframe\">\n",
       "  <thead>\n",
       "    <tr style=\"text-align: right;\">\n",
       "      <th></th>\n",
       "      <th>ALUNO</th>\n",
       "    </tr>\n",
       "    <tr>\n",
       "      <th>Período</th>\n",
       "      <th></th>\n",
       "    </tr>\n",
       "  </thead>\n",
       "  <tbody>\n",
       "    <tr>\n",
       "      <th>4º período</th>\n",
       "      <td>7</td>\n",
       "    </tr>\n",
       "    <tr>\n",
       "      <th>5º período</th>\n",
       "      <td>3</td>\n",
       "    </tr>\n",
       "    <tr>\n",
       "      <th>Total</th>\n",
       "      <td>10</td>\n",
       "    </tr>\n",
       "  </tbody>\n",
       "</table>\n",
       "</div>"
      ],
      "text/plain": [
       "            ALUNO\n",
       "Período          \n",
       "4º período      7\n",
       "5º período      3\n",
       "Total          10"
      ]
     },
     "execution_count": 27,
     "metadata": {},
     "output_type": "execute_result"
    }
   ],
   "source": [
    "per_10_nivel2 = inpdt.pivot_tables(df_10_nivel2, 'ALUNO', 'Período', None)\n",
    "per_10_nivel2"
   ]
  },
  {
   "cell_type": "code",
   "execution_count": 28,
   "metadata": {
    "ExecuteTime": {
     "end_time": "2019-10-30T12:51:49.927055Z",
     "start_time": "2019-10-30T12:51:49.917826Z"
    }
   },
   "outputs": [
    {
     "name": "stdout",
     "output_type": "stream",
     "text": [
      "\\begin{tabular}{lr}\n",
      "\\toprule\n",
      "{} &  ALUNO \\\\\n",
      "Período    &        \\\\\n",
      "\\midrule\n",
      "4º período &      7 \\\\\n",
      "5º período &      3 \\\\\n",
      "Total      &     10 \\\\\n",
      "\\bottomrule\n",
      "\\end{tabular}\n",
      "\n"
     ]
    }
   ],
   "source": [
    "inpdt.latex(per_10_nivel2)"
   ]
  },
  {
   "cell_type": "code",
   "execution_count": 29,
   "metadata": {
    "ExecuteTime": {
     "end_time": "2019-10-30T12:51:58.767872Z",
     "start_time": "2019-10-30T12:51:58.284268Z"
    }
   },
   "outputs": [
    {
     "data": {
      "image/png": "[encoded data removed]",
      "text/plain": [
       "<Figure size 864x432 with 1 Axes>"
      ]
     },
     "metadata": {},
     "output_type": "display_data"
    }
   ],
   "source": [
    "fig3, axarr = plt.subplots(nrows=1,\n",
    "                           ncols=1,\n",
    "                           figsize=(12, 6),\n",
    "                           facecolor=(1.0, 1.0, 1.0))\n",
    "\n",
    "values = inpdt.pivot_data(per_10_nivel2, 0)\n",
    "labels = inpdt.pivot_index(per_10_nivel2)\n",
    "\n",
    "plots.plot_pizza(values,\n",
    "                 labels,\n",
    "                 'Período dos 10 primeiros colocados - Nível 2',\n",
    "                 ax=axarr)\n",
    "\n",
    "figname = 'images/per_10_nivel2'\n",
    "fig3.savefig(figname, bbox_inches='tight', dpi=300)"
   ]
  },
  {
   "cell_type": "code",
   "execution_count": 30,
   "metadata": {
    "ExecuteTime": {
     "end_time": "2019-10-30T12:52:00.740340Z",
     "start_time": "2019-10-30T12:52:00.718329Z"
    }
   },
   "outputs": [
    {
     "data": {
      "text/html": [
       "<div>\n",
       "<style scoped>\n",
       "    .dataframe tbody tr th:only-of-type {\n",
       "        vertical-align: middle;\n",
       "    }\n",
       "\n",
       "    .dataframe tbody tr th {\n",
       "        vertical-align: top;\n",
       "    }\n",
       "\n",
       "    .dataframe thead th {\n",
       "        text-align: right;\n",
       "    }\n",
       "</style>\n",
       "<table border=\"1\" class=\"dataframe\">\n",
       "  <thead>\n",
       "    <tr style=\"text-align: right;\">\n",
       "      <th></th>\n",
       "      <th>ALUNO</th>\n",
       "    </tr>\n",
       "    <tr>\n",
       "      <th>cod</th>\n",
       "      <th></th>\n",
       "    </tr>\n",
       "  </thead>\n",
       "  <tbody>\n",
       "    <tr>\n",
       "      <th>AM</th>\n",
       "      <td>2</td>\n",
       "    </tr>\n",
       "    <tr>\n",
       "      <th>BM</th>\n",
       "      <td>1</td>\n",
       "    </tr>\n",
       "    <tr>\n",
       "      <th>FM</th>\n",
       "      <td>1</td>\n",
       "    </tr>\n",
       "    <tr>\n",
       "      <th>MAM</th>\n",
       "      <td>2</td>\n",
       "    </tr>\n",
       "    <tr>\n",
       "      <th>QM</th>\n",
       "      <td>4</td>\n",
       "    </tr>\n",
       "    <tr>\n",
       "      <th>Total</th>\n",
       "      <td>10</td>\n",
       "    </tr>\n",
       "  </tbody>\n",
       "</table>\n",
       "</div>"
      ],
      "text/plain": [
       "       ALUNO\n",
       "cod         \n",
       "AM         2\n",
       "BM         1\n",
       "FM         1\n",
       "MAM        2\n",
       "QM         4\n",
       "Total     10"
      ]
     },
     "execution_count": 30,
     "metadata": {},
     "output_type": "execute_result"
    }
   ],
   "source": [
    "curso_10_nivel2 = inpdt.pivot_tables(df_10_nivel2, 'ALUNO', 'cod', None)\n",
    "curso_10_nivel2"
   ]
  },
  {
   "cell_type": "code",
   "execution_count": 31,
   "metadata": {
    "ExecuteTime": {
     "end_time": "2019-10-30T12:52:50.664595Z",
     "start_time": "2019-10-30T12:52:50.655236Z"
    }
   },
   "outputs": [
    {
     "name": "stdout",
     "output_type": "stream",
     "text": [
      "\\begin{tabular}{lr}\n",
      "\\toprule\n",
      "{} &  ALUNO \\\\\n",
      "cod   &        \\\\\n",
      "\\midrule\n",
      "AM    &      2 \\\\\n",
      "BM    &      1 \\\\\n",
      "FM    &      1 \\\\\n",
      "MAM   &      2 \\\\\n",
      "QM    &      4 \\\\\n",
      "Total &     10 \\\\\n",
      "\\bottomrule\n",
      "\\end{tabular}\n",
      "\n"
     ]
    }
   ],
   "source": [
    "inpdt.latex(curso_10_nivel2)"
   ]
  },
  {
   "cell_type": "code",
   "execution_count": 33,
   "metadata": {
    "ExecuteTime": {
     "end_time": "2019-10-30T13:00:12.207730Z",
     "start_time": "2019-10-30T13:00:11.690257Z"
    }
   },
   "outputs": [
    {
     "data": {
      "image/png": "[encoded data removed]",
      "text/plain": [
       "<Figure size 864x432 with 1 Axes>"
      ]
     },
     "metadata": {},
     "output_type": "display_data"
    }
   ],
   "source": [
    "fig4, axarr = plt.subplots(nrows=1,\n",
    "                           ncols=1,\n",
    "                           figsize=(12, 6),\n",
    "                           facecolor=(1.0, 1.0, 1.0))\n",
    "\n",
    "values = inpdt.pivot_data(curso_10_nivel2, 0)\n",
    "labels = inpdt.pivot_index(curso_10_nivel2)\n",
    "\n",
    "plots.plot_pizza(values,\n",
    "                 labels,\n",
    "                 'Curso dos 10 primeiros colocados - Nível 2',\n",
    "                 ax=axarr)\n",
    "\n",
    "figname = 'images/curso_10_nivel2'\n",
    "fig4.savefig(figname, bbox_inches='tight', dpi=300)"
   ]
  },
  {
   "cell_type": "code",
   "execution_count": null,
   "metadata": {},
   "outputs": [],
   "source": []
  }
 ],
 "metadata": {
  "hide_input": false,
  "kernelspec": {
   "display_name": "Python 3",
   "language": "python",
   "name": "python3"
  },
  "language_info": {
   "codemirror_mode": {
    "name": "ipython",
    "version": 3
   },
   "file_extension": ".py",
   "mimetype": "text/x-python",
   "name": "python",
   "nbconvert_exporter": "python",
   "pygments_lexer": "ipython3",
   "version": "3.7.3"
  },
  "toc": {
   "base_numbering": 1,
   "nav_menu": {},
   "number_sections": true,
   "sideBar": true,
   "skip_h1_title": false,
   "title_cell": "Table of Contents",
   "title_sidebar": "Contents",
   "toc_cell": false,
   "toc_position": {},
   "toc_section_display": true,
   "toc_window_display": true
  },
  "varInspector": {
   "cols": {
    "lenName": 16,
    "lenType": 16,
    "lenVar": 40
   },
   "kernels_config": {
    "python": {
     "delete_cmd_postfix": "",
     "delete_cmd_prefix": "del ",
     "library": "var_list.py",
     "varRefreshCmd": "print(var_dic_list())"
    },
    "r": {
     "delete_cmd_postfix": ") ",
     "delete_cmd_prefix": "rm(",
     "library": "var_list.r",
     "varRefreshCmd": "cat(var_dic_list()) "
    }
   },
   "types_to_exclude": [
    "module",
    "function",
    "builtin_function_or_method",
    "instance",
    "_Feature"
   ],
   "window_display": false
  }
 },
 "nbformat": 4,
 "nbformat_minor": 2
}
