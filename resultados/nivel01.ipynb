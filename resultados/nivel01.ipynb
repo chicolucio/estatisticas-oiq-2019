{
 "cells": [
  {
   "cell_type": "code",
   "execution_count": 1,
   "metadata": {
    "ExecuteTime": {
     "end_time": "2019-10-31T14:44:15.491291Z",
     "start_time": "2019-10-31T14:44:15.479507Z"
    }
   },
   "outputs": [],
   "source": [
    "# utilizado quando da criação do notebook, para recarregar os arquivos externos automaticamente\n",
    "\n",
    "%load_ext autoreload\n",
    "%autoreload 2"
   ]
  },
  {
   "cell_type": "markdown",
   "metadata": {},
   "source": [
    "# Importando módulos e arquivo de dados"
   ]
  },
  {
   "cell_type": "code",
   "execution_count": 2,
   "metadata": {
    "ExecuteTime": {
     "end_time": "2019-10-31T14:44:17.363650Z",
     "start_time": "2019-10-31T14:44:17.119649Z"
    }
   },
   "outputs": [],
   "source": [
    "import input_data as inpdt  # arquivo de funções criadas para tratar os dados\n",
    "import plots  # arquivo de funções criadas para pltar os dados \n",
    "import matplotlib.pyplot as plt\n",
    "import pandas as pd"
   ]
  },
  {
   "cell_type": "code",
   "execution_count": 3,
   "metadata": {
    "ExecuteTime": {
     "end_time": "2019-10-31T14:44:19.888899Z",
     "start_time": "2019-10-31T14:44:19.881787Z"
    }
   },
   "outputs": [],
   "source": [
    "file_path = \"dados_brutos/notas_2019_nivel1_limpo.csv\""
   ]
  },
  {
   "cell_type": "code",
   "execution_count": 4,
   "metadata": {
    "ExecuteTime": {
     "end_time": "2019-10-31T14:44:21.935381Z",
     "start_time": "2019-10-31T14:44:21.891323Z"
    }
   },
   "outputs": [
    {
     "data": {
      "text/html": [
       "<div>\n",
       "<style scoped>\n",
       "    .dataframe tbody tr th:only-of-type {\n",
       "        vertical-align: middle;\n",
       "    }\n",
       "\n",
       "    .dataframe tbody tr th {\n",
       "        vertical-align: top;\n",
       "    }\n",
       "\n",
       "    .dataframe thead th {\n",
       "        text-align: right;\n",
       "    }\n",
       "</style>\n",
       "<table border=\"1\" class=\"dataframe\">\n",
       "  <thead>\n",
       "    <tr style=\"text-align: right;\">\n",
       "      <th></th>\n",
       "      <th>ALUNO</th>\n",
       "      <th>TURMA</th>\n",
       "      <th>Acertos parte A</th>\n",
       "      <th>Q17</th>\n",
       "      <th>Q18</th>\n",
       "    </tr>\n",
       "  </thead>\n",
       "  <tbody>\n",
       "    <tr>\n",
       "      <th>0</th>\n",
       "      <td>hVXnK1xq</td>\n",
       "      <td>FM131</td>\n",
       "      <td>13.0</td>\n",
       "      <td>8.0</td>\n",
       "      <td>7.1</td>\n",
       "    </tr>\n",
       "    <tr>\n",
       "      <th>1</th>\n",
       "      <td>IYnzA3Os</td>\n",
       "      <td>TM122</td>\n",
       "      <td>12.0</td>\n",
       "      <td>8.0</td>\n",
       "      <td>7.1</td>\n",
       "    </tr>\n",
       "    <tr>\n",
       "      <th>2</th>\n",
       "      <td>fl9124XE</td>\n",
       "      <td>MAM231</td>\n",
       "      <td>11.0</td>\n",
       "      <td>10.0</td>\n",
       "      <td>8.7</td>\n",
       "    </tr>\n",
       "    <tr>\n",
       "      <th>3</th>\n",
       "      <td>g8XotMjL</td>\n",
       "      <td>TM122</td>\n",
       "      <td>12.0</td>\n",
       "      <td>7.0</td>\n",
       "      <td>6.1</td>\n",
       "    </tr>\n",
       "    <tr>\n",
       "      <th>4</th>\n",
       "      <td>eLazoRak</td>\n",
       "      <td>TM121</td>\n",
       "      <td>11.0</td>\n",
       "      <td>7.0</td>\n",
       "      <td>7.6</td>\n",
       "    </tr>\n",
       "  </tbody>\n",
       "</table>\n",
       "</div>"
      ],
      "text/plain": [
       "      ALUNO   TURMA  Acertos parte A   Q17  Q18\n",
       "0  hVXnK1xq   FM131             13.0   8.0  7.1\n",
       "1  IYnzA3Os   TM122             12.0   8.0  7.1\n",
       "2  fl9124XE  MAM231             11.0  10.0  8.7\n",
       "3  g8XotMjL   TM122             12.0   7.0  6.1\n",
       "4  eLazoRak   TM121             11.0   7.0  7.6"
      ]
     },
     "execution_count": 4,
     "metadata": {},
     "output_type": "execute_result"
    }
   ],
   "source": [
    "df = inpdt.input_data(file_path)\n",
    "df.head()"
   ]
  },
  {
   "cell_type": "markdown",
   "metadata": {},
   "source": [
    "# Tratando os dados de entrada"
   ]
  },
  {
   "cell_type": "markdown",
   "metadata": {},
   "source": [
    "## Removendo alunos faltosos"
   ]
  },
  {
   "cell_type": "code",
   "execution_count": 5,
   "metadata": {
    "ExecuteTime": {
     "end_time": "2019-10-31T14:44:24.984268Z",
     "start_time": "2019-10-31T14:44:24.961922Z"
    }
   },
   "outputs": [
    {
     "data": {
      "text/html": [
       "<div>\n",
       "<style scoped>\n",
       "    .dataframe tbody tr th:only-of-type {\n",
       "        vertical-align: middle;\n",
       "    }\n",
       "\n",
       "    .dataframe tbody tr th {\n",
       "        vertical-align: top;\n",
       "    }\n",
       "\n",
       "    .dataframe thead th {\n",
       "        text-align: right;\n",
       "    }\n",
       "</style>\n",
       "<table border=\"1\" class=\"dataframe\">\n",
       "  <thead>\n",
       "    <tr style=\"text-align: right;\">\n",
       "      <th></th>\n",
       "      <th>ALUNO</th>\n",
       "      <th>TURMA</th>\n",
       "      <th>Acertos parte A</th>\n",
       "      <th>Q17</th>\n",
       "      <th>Q18</th>\n",
       "    </tr>\n",
       "  </thead>\n",
       "  <tbody>\n",
       "    <tr>\n",
       "      <th>0</th>\n",
       "      <td>hVXnK1xq</td>\n",
       "      <td>FM131</td>\n",
       "      <td>13.0</td>\n",
       "      <td>8.0</td>\n",
       "      <td>7.1</td>\n",
       "    </tr>\n",
       "    <tr>\n",
       "      <th>1</th>\n",
       "      <td>IYnzA3Os</td>\n",
       "      <td>TM122</td>\n",
       "      <td>12.0</td>\n",
       "      <td>8.0</td>\n",
       "      <td>7.1</td>\n",
       "    </tr>\n",
       "    <tr>\n",
       "      <th>2</th>\n",
       "      <td>fl9124XE</td>\n",
       "      <td>MAM231</td>\n",
       "      <td>11.0</td>\n",
       "      <td>10.0</td>\n",
       "      <td>8.7</td>\n",
       "    </tr>\n",
       "    <tr>\n",
       "      <th>3</th>\n",
       "      <td>g8XotMjL</td>\n",
       "      <td>TM122</td>\n",
       "      <td>12.0</td>\n",
       "      <td>7.0</td>\n",
       "      <td>6.1</td>\n",
       "    </tr>\n",
       "    <tr>\n",
       "      <th>4</th>\n",
       "      <td>eLazoRak</td>\n",
       "      <td>TM121</td>\n",
       "      <td>11.0</td>\n",
       "      <td>7.0</td>\n",
       "      <td>7.6</td>\n",
       "    </tr>\n",
       "  </tbody>\n",
       "</table>\n",
       "</div>"
      ],
      "text/plain": [
       "      ALUNO   TURMA  Acertos parte A   Q17  Q18\n",
       "0  hVXnK1xq   FM131             13.0   8.0  7.1\n",
       "1  IYnzA3Os   TM122             12.0   8.0  7.1\n",
       "2  fl9124XE  MAM231             11.0  10.0  8.7\n",
       "3  g8XotMjL   TM122             12.0   7.0  6.1\n",
       "4  eLazoRak   TM121             11.0   7.0  7.6"
      ]
     },
     "execution_count": 5,
     "metadata": {},
     "output_type": "execute_result"
    }
   ],
   "source": [
    "df_presentes = inpdt.no_absents(df)\n",
    "df_presentes.head()"
   ]
  },
  {
   "cell_type": "code",
   "execution_count": 6,
   "metadata": {
    "ExecuteTime": {
     "end_time": "2019-10-31T14:44:26.139632Z",
     "start_time": "2019-10-31T14:44:26.121921Z"
    }
   },
   "outputs": [
    {
     "data": {
      "text/html": [
       "<div>\n",
       "<style scoped>\n",
       "    .dataframe tbody tr th:only-of-type {\n",
       "        vertical-align: middle;\n",
       "    }\n",
       "\n",
       "    .dataframe tbody tr th {\n",
       "        vertical-align: top;\n",
       "    }\n",
       "\n",
       "    .dataframe thead th {\n",
       "        text-align: right;\n",
       "    }\n",
       "</style>\n",
       "<table border=\"1\" class=\"dataframe\">\n",
       "  <thead>\n",
       "    <tr style=\"text-align: right;\">\n",
       "      <th></th>\n",
       "      <th>Acertos parte A</th>\n",
       "      <th>Q17</th>\n",
       "      <th>Q18</th>\n",
       "    </tr>\n",
       "  </thead>\n",
       "  <tbody>\n",
       "    <tr>\n",
       "      <th>count</th>\n",
       "      <td>35.000000</td>\n",
       "      <td>35.000000</td>\n",
       "      <td>35.000000</td>\n",
       "    </tr>\n",
       "    <tr>\n",
       "      <th>mean</th>\n",
       "      <td>8.057143</td>\n",
       "      <td>5.485714</td>\n",
       "      <td>2.985714</td>\n",
       "    </tr>\n",
       "    <tr>\n",
       "      <th>std</th>\n",
       "      <td>2.436763</td>\n",
       "      <td>2.974118</td>\n",
       "      <td>3.277027</td>\n",
       "    </tr>\n",
       "    <tr>\n",
       "      <th>min</th>\n",
       "      <td>3.000000</td>\n",
       "      <td>0.000000</td>\n",
       "      <td>0.000000</td>\n",
       "    </tr>\n",
       "    <tr>\n",
       "      <th>25%</th>\n",
       "      <td>6.000000</td>\n",
       "      <td>3.000000</td>\n",
       "      <td>0.000000</td>\n",
       "    </tr>\n",
       "    <tr>\n",
       "      <th>50%</th>\n",
       "      <td>7.000000</td>\n",
       "      <td>6.000000</td>\n",
       "      <td>1.100000</td>\n",
       "    </tr>\n",
       "    <tr>\n",
       "      <th>75%</th>\n",
       "      <td>10.000000</td>\n",
       "      <td>7.500000</td>\n",
       "      <td>6.100000</td>\n",
       "    </tr>\n",
       "    <tr>\n",
       "      <th>max</th>\n",
       "      <td>13.000000</td>\n",
       "      <td>10.000000</td>\n",
       "      <td>8.700000</td>\n",
       "    </tr>\n",
       "  </tbody>\n",
       "</table>\n",
       "</div>"
      ],
      "text/plain": [
       "       Acertos parte A        Q17        Q18\n",
       "count        35.000000  35.000000  35.000000\n",
       "mean          8.057143   5.485714   2.985714\n",
       "std           2.436763   2.974118   3.277027\n",
       "min           3.000000   0.000000   0.000000\n",
       "25%           6.000000   3.000000   0.000000\n",
       "50%           7.000000   6.000000   1.100000\n",
       "75%          10.000000   7.500000   6.100000\n",
       "max          13.000000  10.000000   8.700000"
      ]
     },
     "execution_count": 6,
     "metadata": {},
     "output_type": "execute_result"
    }
   ],
   "source": [
    "df_presentes.describe()"
   ]
  },
  {
   "cell_type": "markdown",
   "metadata": {},
   "source": [
    "## Calculando as notas, organizando e describe"
   ]
  },
  {
   "cell_type": "code",
   "execution_count": 7,
   "metadata": {
    "ExecuteTime": {
     "end_time": "2019-10-31T14:44:34.106408Z",
     "start_time": "2019-10-31T14:44:34.090511Z"
    }
   },
   "outputs": [
    {
     "data": {
      "text/html": [
       "<div>\n",
       "<style scoped>\n",
       "    .dataframe tbody tr th:only-of-type {\n",
       "        vertical-align: middle;\n",
       "    }\n",
       "\n",
       "    .dataframe tbody tr th {\n",
       "        vertical-align: top;\n",
       "    }\n",
       "\n",
       "    .dataframe thead th {\n",
       "        text-align: right;\n",
       "    }\n",
       "</style>\n",
       "<table border=\"1\" class=\"dataframe\">\n",
       "  <thead>\n",
       "    <tr style=\"text-align: right;\">\n",
       "      <th></th>\n",
       "      <th>ALUNO</th>\n",
       "      <th>TURMA</th>\n",
       "      <th>Acertos parte A</th>\n",
       "      <th>Q17</th>\n",
       "      <th>Q18</th>\n",
       "      <th>Pontos - Objetiva</th>\n",
       "      <th>Pontos - Discursiva</th>\n",
       "      <th>Pontuação final</th>\n",
       "    </tr>\n",
       "  </thead>\n",
       "  <tbody>\n",
       "    <tr>\n",
       "      <th>0</th>\n",
       "      <td>hVXnK1xq</td>\n",
       "      <td>FM131</td>\n",
       "      <td>13.0</td>\n",
       "      <td>8.0</td>\n",
       "      <td>7.1</td>\n",
       "      <td>65.0</td>\n",
       "      <td>15.1</td>\n",
       "      <td>80.1</td>\n",
       "    </tr>\n",
       "    <tr>\n",
       "      <th>1</th>\n",
       "      <td>IYnzA3Os</td>\n",
       "      <td>TM122</td>\n",
       "      <td>12.0</td>\n",
       "      <td>8.0</td>\n",
       "      <td>7.1</td>\n",
       "      <td>60.0</td>\n",
       "      <td>15.1</td>\n",
       "      <td>75.1</td>\n",
       "    </tr>\n",
       "    <tr>\n",
       "      <th>2</th>\n",
       "      <td>fl9124XE</td>\n",
       "      <td>MAM231</td>\n",
       "      <td>11.0</td>\n",
       "      <td>10.0</td>\n",
       "      <td>8.7</td>\n",
       "      <td>55.0</td>\n",
       "      <td>18.7</td>\n",
       "      <td>73.7</td>\n",
       "    </tr>\n",
       "    <tr>\n",
       "      <th>3</th>\n",
       "      <td>g8XotMjL</td>\n",
       "      <td>TM122</td>\n",
       "      <td>12.0</td>\n",
       "      <td>7.0</td>\n",
       "      <td>6.1</td>\n",
       "      <td>60.0</td>\n",
       "      <td>13.1</td>\n",
       "      <td>73.1</td>\n",
       "    </tr>\n",
       "    <tr>\n",
       "      <th>4</th>\n",
       "      <td>eLazoRak</td>\n",
       "      <td>TM121</td>\n",
       "      <td>11.0</td>\n",
       "      <td>7.0</td>\n",
       "      <td>7.6</td>\n",
       "      <td>55.0</td>\n",
       "      <td>14.6</td>\n",
       "      <td>69.6</td>\n",
       "    </tr>\n",
       "  </tbody>\n",
       "</table>\n",
       "</div>"
      ],
      "text/plain": [
       "      ALUNO   TURMA  Acertos parte A   Q17  Q18  Pontos - Objetiva  \\\n",
       "0  hVXnK1xq   FM131             13.0   8.0  7.1               65.0   \n",
       "1  IYnzA3Os   TM122             12.0   8.0  7.1               60.0   \n",
       "2  fl9124XE  MAM231             11.0  10.0  8.7               55.0   \n",
       "3  g8XotMjL   TM122             12.0   7.0  6.1               60.0   \n",
       "4  eLazoRak   TM121             11.0   7.0  7.6               55.0   \n",
       "\n",
       "   Pontos - Discursiva  Pontuação final  \n",
       "0                 15.1             80.1  \n",
       "1                 15.1             75.1  \n",
       "2                 18.7             73.7  \n",
       "3                 13.1             73.1  \n",
       "4                 14.6             69.6  "
      ]
     },
     "execution_count": 7,
     "metadata": {},
     "output_type": "execute_result"
    }
   ],
   "source": [
    "df_pontos = inpdt.grades(df_presentes)\n",
    "df_pontos.head()"
   ]
  },
  {
   "cell_type": "markdown",
   "metadata": {},
   "source": [
    "\n",
    "**Aplicando o critério de desempate**\n"
   ]
  },
  {
   "cell_type": "code",
   "execution_count": 8,
   "metadata": {
    "ExecuteTime": {
     "end_time": "2019-10-31T14:44:36.914817Z",
     "start_time": "2019-10-31T14:44:36.898798Z"
    }
   },
   "outputs": [
    {
     "data": {
      "text/html": [
       "<div>\n",
       "<style scoped>\n",
       "    .dataframe tbody tr th:only-of-type {\n",
       "        vertical-align: middle;\n",
       "    }\n",
       "\n",
       "    .dataframe tbody tr th {\n",
       "        vertical-align: top;\n",
       "    }\n",
       "\n",
       "    .dataframe thead th {\n",
       "        text-align: right;\n",
       "    }\n",
       "</style>\n",
       "<table border=\"1\" class=\"dataframe\">\n",
       "  <thead>\n",
       "    <tr style=\"text-align: right;\">\n",
       "      <th></th>\n",
       "      <th>ALUNO</th>\n",
       "      <th>TURMA</th>\n",
       "      <th>Acertos parte A</th>\n",
       "      <th>Q17</th>\n",
       "      <th>Q18</th>\n",
       "      <th>Pontos - Objetiva</th>\n",
       "      <th>Pontos - Discursiva</th>\n",
       "      <th>Pontuação final</th>\n",
       "    </tr>\n",
       "  </thead>\n",
       "  <tbody>\n",
       "    <tr>\n",
       "      <th>1</th>\n",
       "      <td>hVXnK1xq</td>\n",
       "      <td>FM131</td>\n",
       "      <td>13.0</td>\n",
       "      <td>8.0</td>\n",
       "      <td>7.1</td>\n",
       "      <td>65.0</td>\n",
       "      <td>15.1</td>\n",
       "      <td>80.1</td>\n",
       "    </tr>\n",
       "    <tr>\n",
       "      <th>2</th>\n",
       "      <td>IYnzA3Os</td>\n",
       "      <td>TM122</td>\n",
       "      <td>12.0</td>\n",
       "      <td>8.0</td>\n",
       "      <td>7.1</td>\n",
       "      <td>60.0</td>\n",
       "      <td>15.1</td>\n",
       "      <td>75.1</td>\n",
       "    </tr>\n",
       "    <tr>\n",
       "      <th>3</th>\n",
       "      <td>fl9124XE</td>\n",
       "      <td>MAM231</td>\n",
       "      <td>11.0</td>\n",
       "      <td>10.0</td>\n",
       "      <td>8.7</td>\n",
       "      <td>55.0</td>\n",
       "      <td>18.7</td>\n",
       "      <td>73.7</td>\n",
       "    </tr>\n",
       "    <tr>\n",
       "      <th>4</th>\n",
       "      <td>g8XotMjL</td>\n",
       "      <td>TM122</td>\n",
       "      <td>12.0</td>\n",
       "      <td>7.0</td>\n",
       "      <td>6.1</td>\n",
       "      <td>60.0</td>\n",
       "      <td>13.1</td>\n",
       "      <td>73.1</td>\n",
       "    </tr>\n",
       "    <tr>\n",
       "      <th>5</th>\n",
       "      <td>eLazoRak</td>\n",
       "      <td>TM121</td>\n",
       "      <td>11.0</td>\n",
       "      <td>7.0</td>\n",
       "      <td>7.6</td>\n",
       "      <td>55.0</td>\n",
       "      <td>14.6</td>\n",
       "      <td>69.6</td>\n",
       "    </tr>\n",
       "  </tbody>\n",
       "</table>\n",
       "</div>"
      ],
      "text/plain": [
       "      ALUNO   TURMA  Acertos parte A   Q17  Q18  Pontos - Objetiva  \\\n",
       "1  hVXnK1xq   FM131             13.0   8.0  7.1               65.0   \n",
       "2  IYnzA3Os   TM122             12.0   8.0  7.1               60.0   \n",
       "3  fl9124XE  MAM231             11.0  10.0  8.7               55.0   \n",
       "4  g8XotMjL   TM122             12.0   7.0  6.1               60.0   \n",
       "5  eLazoRak   TM121             11.0   7.0  7.6               55.0   \n",
       "\n",
       "   Pontos - Discursiva  Pontuação final  \n",
       "1                 15.1             80.1  \n",
       "2                 15.1             75.1  \n",
       "3                 18.7             73.7  \n",
       "4                 13.1             73.1  \n",
       "5                 14.6             69.6  "
      ]
     },
     "execution_count": 8,
     "metadata": {},
     "output_type": "execute_result"
    }
   ],
   "source": [
    "df_prem_nivel1 = inpdt.awards(df_pontos,35)\n",
    "df_prem_nivel1.head()"
   ]
  },
  {
   "cell_type": "markdown",
   "metadata": {},
   "source": [
    "**Exportando os dados do nível 1 para posterior comparação com os demais níveis**"
   ]
  },
  {
   "cell_type": "code",
   "execution_count": 9,
   "metadata": {
    "ExecuteTime": {
     "end_time": "2019-10-31T14:44:48.755553Z",
     "start_time": "2019-10-31T14:44:48.745472Z"
    }
   },
   "outputs": [],
   "source": [
    "df_prem_nivel1.to_csv('nivel1python.csv')"
   ]
  },
  {
   "cell_type": "markdown",
   "metadata": {},
   "source": [
    "\n",
    "**Vendo a nota de corte para entrar nas menções honrosas**\n"
   ]
  },
  {
   "cell_type": "code",
   "execution_count": 10,
   "metadata": {
    "ExecuteTime": {
     "end_time": "2019-10-31T14:44:51.379491Z",
     "start_time": "2019-10-31T14:44:51.369338Z"
    }
   },
   "outputs": [
    {
     "data": {
      "text/plain": [
       "61.5"
      ]
     },
     "execution_count": 10,
     "metadata": {},
     "output_type": "execute_result"
    }
   ],
   "source": [
    "df_prem_nivel1['Pontuação final'].head(10).min()"
   ]
  },
  {
   "cell_type": "markdown",
   "metadata": {},
   "source": [
    "\n",
    "**Verificar quantos alunos não zeraram a prova discursiva**\n"
   ]
  },
  {
   "cell_type": "code",
   "execution_count": 11,
   "metadata": {
    "ExecuteTime": {
     "end_time": "2019-10-31T14:44:52.810630Z",
     "start_time": "2019-10-31T14:44:52.801169Z"
    }
   },
   "outputs": [
    {
     "data": {
      "text/plain": [
       "32"
      ]
     },
     "execution_count": 11,
     "metadata": {},
     "output_type": "execute_result"
    }
   ],
   "source": [
    "# alunos que não zeraram a prova discursiva. Comparar com ano passado.\n",
    "\n",
    "df_prem_nivel1['ALUNO'][df_prem_nivel1['Pontos - Discursiva'] != 0].count()"
   ]
  },
  {
   "cell_type": "markdown",
   "metadata": {},
   "source": [
    "**Describe**"
   ]
  },
  {
   "cell_type": "code",
   "execution_count": 12,
   "metadata": {
    "ExecuteTime": {
     "end_time": "2019-10-31T14:44:55.854225Z",
     "start_time": "2019-10-31T14:44:55.831219Z"
    }
   },
   "outputs": [
    {
     "data": {
      "text/html": [
       "<div>\n",
       "<style scoped>\n",
       "    .dataframe tbody tr th:only-of-type {\n",
       "        vertical-align: middle;\n",
       "    }\n",
       "\n",
       "    .dataframe tbody tr th {\n",
       "        vertical-align: top;\n",
       "    }\n",
       "\n",
       "    .dataframe thead th {\n",
       "        text-align: right;\n",
       "    }\n",
       "</style>\n",
       "<table border=\"1\" class=\"dataframe\">\n",
       "  <thead>\n",
       "    <tr style=\"text-align: right;\">\n",
       "      <th></th>\n",
       "      <th>Acertos parte A</th>\n",
       "      <th>Q17</th>\n",
       "      <th>Q18</th>\n",
       "      <th>Pontos - Objetiva</th>\n",
       "      <th>Pontos - Discursiva</th>\n",
       "      <th>Pontuação final</th>\n",
       "    </tr>\n",
       "  </thead>\n",
       "  <tbody>\n",
       "    <tr>\n",
       "      <th>count</th>\n",
       "      <td>35.000000</td>\n",
       "      <td>35.000000</td>\n",
       "      <td>35.000000</td>\n",
       "      <td>35.000000</td>\n",
       "      <td>35.000000</td>\n",
       "      <td>35.000000</td>\n",
       "    </tr>\n",
       "    <tr>\n",
       "      <th>mean</th>\n",
       "      <td>8.057143</td>\n",
       "      <td>5.485714</td>\n",
       "      <td>2.985714</td>\n",
       "      <td>40.285714</td>\n",
       "      <td>8.471429</td>\n",
       "      <td>48.757143</td>\n",
       "    </tr>\n",
       "    <tr>\n",
       "      <th>std</th>\n",
       "      <td>2.436763</td>\n",
       "      <td>2.974118</td>\n",
       "      <td>3.277027</td>\n",
       "      <td>12.183816</td>\n",
       "      <td>5.406835</td>\n",
       "      <td>15.946294</td>\n",
       "    </tr>\n",
       "    <tr>\n",
       "      <th>min</th>\n",
       "      <td>3.000000</td>\n",
       "      <td>0.000000</td>\n",
       "      <td>0.000000</td>\n",
       "      <td>15.000000</td>\n",
       "      <td>0.000000</td>\n",
       "      <td>15.000000</td>\n",
       "    </tr>\n",
       "    <tr>\n",
       "      <th>25%</th>\n",
       "      <td>6.000000</td>\n",
       "      <td>3.000000</td>\n",
       "      <td>0.000000</td>\n",
       "      <td>30.000000</td>\n",
       "      <td>3.550000</td>\n",
       "      <td>37.000000</td>\n",
       "    </tr>\n",
       "    <tr>\n",
       "      <th>50%</th>\n",
       "      <td>7.000000</td>\n",
       "      <td>6.000000</td>\n",
       "      <td>1.100000</td>\n",
       "      <td>35.000000</td>\n",
       "      <td>9.000000</td>\n",
       "      <td>47.000000</td>\n",
       "    </tr>\n",
       "    <tr>\n",
       "      <th>75%</th>\n",
       "      <td>10.000000</td>\n",
       "      <td>7.500000</td>\n",
       "      <td>6.100000</td>\n",
       "      <td>50.000000</td>\n",
       "      <td>12.900000</td>\n",
       "      <td>61.900000</td>\n",
       "    </tr>\n",
       "    <tr>\n",
       "      <th>max</th>\n",
       "      <td>13.000000</td>\n",
       "      <td>10.000000</td>\n",
       "      <td>8.700000</td>\n",
       "      <td>65.000000</td>\n",
       "      <td>18.700000</td>\n",
       "      <td>80.100000</td>\n",
       "    </tr>\n",
       "  </tbody>\n",
       "</table>\n",
       "</div>"
      ],
      "text/plain": [
       "       Acertos parte A        Q17        Q18  Pontos - Objetiva  \\\n",
       "count        35.000000  35.000000  35.000000          35.000000   \n",
       "mean          8.057143   5.485714   2.985714          40.285714   \n",
       "std           2.436763   2.974118   3.277027          12.183816   \n",
       "min           3.000000   0.000000   0.000000          15.000000   \n",
       "25%           6.000000   3.000000   0.000000          30.000000   \n",
       "50%           7.000000   6.000000   1.100000          35.000000   \n",
       "75%          10.000000   7.500000   6.100000          50.000000   \n",
       "max          13.000000  10.000000   8.700000          65.000000   \n",
       "\n",
       "       Pontos - Discursiva  Pontuação final  \n",
       "count            35.000000        35.000000  \n",
       "mean              8.471429        48.757143  \n",
       "std               5.406835        15.946294  \n",
       "min               0.000000        15.000000  \n",
       "25%               3.550000        37.000000  \n",
       "50%               9.000000        47.000000  \n",
       "75%              12.900000        61.900000  \n",
       "max              18.700000        80.100000  "
      ]
     },
     "execution_count": 12,
     "metadata": {},
     "output_type": "execute_result"
    }
   ],
   "source": [
    "df_prem_nivel1.describe()"
   ]
  },
  {
   "cell_type": "markdown",
   "metadata": {},
   "source": [
    "# Gráficos"
   ]
  },
  {
   "cell_type": "markdown",
   "metadata": {},
   "source": [
    "## Histograma e boxplot"
   ]
  },
  {
   "cell_type": "code",
   "execution_count": 13,
   "metadata": {
    "ExecuteTime": {
     "end_time": "2019-10-31T14:44:59.772042Z",
     "start_time": "2019-10-31T14:44:59.731595Z"
    }
   },
   "outputs": [
    {
     "data": {
      "text/html": [
       "<div>\n",
       "<style scoped>\n",
       "    .dataframe tbody tr th:only-of-type {\n",
       "        vertical-align: middle;\n",
       "    }\n",
       "\n",
       "    .dataframe tbody tr th {\n",
       "        vertical-align: top;\n",
       "    }\n",
       "\n",
       "    .dataframe thead th {\n",
       "        text-align: right;\n",
       "    }\n",
       "</style>\n",
       "<table border=\"1\" class=\"dataframe\">\n",
       "  <thead>\n",
       "    <tr style=\"text-align: right;\">\n",
       "      <th></th>\n",
       "      <th>Contagem</th>\n",
       "      <th>Contagem /%</th>\n",
       "      <th>Contagem cumulativa</th>\n",
       "      <th>Contagem /% cumulativa</th>\n",
       "    </tr>\n",
       "    <tr>\n",
       "      <th>Intervalos</th>\n",
       "      <th></th>\n",
       "      <th></th>\n",
       "      <th></th>\n",
       "      <th></th>\n",
       "    </tr>\n",
       "  </thead>\n",
       "  <tbody>\n",
       "    <tr>\n",
       "      <th>[0, 10)</th>\n",
       "      <td>0</td>\n",
       "      <td>0.00</td>\n",
       "      <td>0</td>\n",
       "      <td>0.00</td>\n",
       "    </tr>\n",
       "    <tr>\n",
       "      <th>[10, 20)</th>\n",
       "      <td>1</td>\n",
       "      <td>2.86</td>\n",
       "      <td>1</td>\n",
       "      <td>2.86</td>\n",
       "    </tr>\n",
       "    <tr>\n",
       "      <th>[20, 30)</th>\n",
       "      <td>1</td>\n",
       "      <td>2.86</td>\n",
       "      <td>2</td>\n",
       "      <td>5.72</td>\n",
       "    </tr>\n",
       "    <tr>\n",
       "      <th>[30, 40)</th>\n",
       "      <td>12</td>\n",
       "      <td>34.29</td>\n",
       "      <td>14</td>\n",
       "      <td>40.01</td>\n",
       "    </tr>\n",
       "    <tr>\n",
       "      <th>[40, 50)</th>\n",
       "      <td>6</td>\n",
       "      <td>17.14</td>\n",
       "      <td>20</td>\n",
       "      <td>57.15</td>\n",
       "    </tr>\n",
       "    <tr>\n",
       "      <th>[50, 60)</th>\n",
       "      <td>5</td>\n",
       "      <td>14.29</td>\n",
       "      <td>25</td>\n",
       "      <td>71.44</td>\n",
       "    </tr>\n",
       "    <tr>\n",
       "      <th>[60, 70)</th>\n",
       "      <td>6</td>\n",
       "      <td>17.14</td>\n",
       "      <td>31</td>\n",
       "      <td>88.58</td>\n",
       "    </tr>\n",
       "    <tr>\n",
       "      <th>[70, 80)</th>\n",
       "      <td>3</td>\n",
       "      <td>8.57</td>\n",
       "      <td>34</td>\n",
       "      <td>97.15</td>\n",
       "    </tr>\n",
       "    <tr>\n",
       "      <th>[80, 90)</th>\n",
       "      <td>1</td>\n",
       "      <td>2.86</td>\n",
       "      <td>35</td>\n",
       "      <td>100.01</td>\n",
       "    </tr>\n",
       "    <tr>\n",
       "      <th>[90, 100)</th>\n",
       "      <td>0</td>\n",
       "      <td>0.00</td>\n",
       "      <td>35</td>\n",
       "      <td>100.01</td>\n",
       "    </tr>\n",
       "  </tbody>\n",
       "</table>\n",
       "</div>"
      ],
      "text/plain": [
       "            Contagem  Contagem /%  Contagem cumulativa  Contagem /% cumulativa\n",
       "Intervalos                                                                    \n",
       "[0, 10)            0         0.00                    0                    0.00\n",
       "[10, 20)           1         2.86                    1                    2.86\n",
       "[20, 30)           1         2.86                    2                    5.72\n",
       "[30, 40)          12        34.29                   14                   40.01\n",
       "[40, 50)           6        17.14                   20                   57.15\n",
       "[50, 60)           5        14.29                   25                   71.44\n",
       "[60, 70)           6        17.14                   31                   88.58\n",
       "[70, 80)           3         8.57                   34                   97.15\n",
       "[80, 90)           1         2.86                   35                  100.01\n",
       "[90, 100)          0         0.00                   35                  100.01"
      ]
     },
     "execution_count": 13,
     "metadata": {},
     "output_type": "execute_result"
    }
   ],
   "source": [
    "bins_nivel1 = inpdt.bins(df_prem_nivel1)\n",
    "bins_nivel1"
   ]
  },
  {
   "cell_type": "code",
   "execution_count": 14,
   "metadata": {
    "ExecuteTime": {
     "end_time": "2019-10-31T14:45:02.691578Z",
     "start_time": "2019-10-31T14:45:02.681504Z"
    }
   },
   "outputs": [
    {
     "name": "stdout",
     "output_type": "stream",
     "text": [
      "\\begin{tabular}{lrrrr}\n",
      "\\toprule\n",
      "{} &  Contagem &  Contagem /\\% &  Contagem cumulativa &  Contagem /\\% cumulativa \\\\\n",
      "Intervalos &           &              &                      &                         \\\\\n",
      "\\midrule\n",
      "[0, 10)    &         0 &         0.00 &                    0 &                    0.00 \\\\\n",
      "[10, 20)   &         1 &         2.86 &                    1 &                    2.86 \\\\\n",
      "[20, 30)   &         1 &         2.86 &                    2 &                    5.72 \\\\\n",
      "[30, 40)   &        12 &        34.29 &                   14 &                   40.01 \\\\\n",
      "[40, 50)   &         6 &        17.14 &                   20 &                   57.15 \\\\\n",
      "[50, 60)   &         5 &        14.29 &                   25 &                   71.44 \\\\\n",
      "[60, 70)   &         6 &        17.14 &                   31 &                   88.58 \\\\\n",
      "[70, 80)   &         3 &         8.57 &                   34 &                   97.15 \\\\\n",
      "[80, 90)   &         1 &         2.86 &                   35 &                  100.01 \\\\\n",
      "[90, 100)  &         0 &         0.00 &                   35 &                  100.01 \\\\\n",
      "\\bottomrule\n",
      "\\end{tabular}\n",
      "\n"
     ]
    }
   ],
   "source": [
    "inpdt.latex(bins_nivel1)"
   ]
  },
  {
   "cell_type": "code",
   "execution_count": 15,
   "metadata": {
    "ExecuteTime": {
     "end_time": "2019-10-31T14:45:07.282920Z",
     "start_time": "2019-10-31T14:45:06.206166Z"
    }
   },
   "outputs": [
    {
     "data": {
      "image/png": "[encoded data removed]",
      "text/plain": [
       "<Figure size 864x576 with 2 Axes>"
      ]
     },
     "metadata": {
      "needs_background": "light"
     },
     "output_type": "display_data"
    }
   ],
   "source": [
    "fig1, (ax2, ax1) = plt.subplots(figsize=(12, 8),\n",
    "                                nrows=2,\n",
    "                                sharex=True,\n",
    "                                gridspec_kw={\n",
    "                                    \"height_ratios\": (.15, .85),\n",
    "                                    'hspace': 0.02\n",
    "                                })\n",
    "\n",
    "fig1.subplots_adjust(top=0.90)\n",
    "fig1.suptitle('Análise das notas - Nível 1', fontsize=20)\n",
    "\n",
    "plots.boxplot(df_prem_nivel1, 'Pontuação final', ax=ax2)\n",
    "plots.histogram(df_prem_nivel1, 'Pontuação final', ax=ax1)\n",
    "\n",
    "figname = 'images/hist_nivel1'\n",
    "fig1.savefig(figname, bbox_inches='tight', dpi=300)"
   ]
  },
  {
   "cell_type": "markdown",
   "metadata": {},
   "source": [
    "## Alunos por turma"
   ]
  },
  {
   "cell_type": "code",
   "execution_count": 16,
   "metadata": {
    "ExecuteTime": {
     "end_time": "2019-10-31T14:45:11.201893Z",
     "start_time": "2019-10-31T14:45:11.177918Z"
    }
   },
   "outputs": [
    {
     "data": {
      "text/html": [
       "<div>\n",
       "<style scoped>\n",
       "    .dataframe tbody tr th:only-of-type {\n",
       "        vertical-align: middle;\n",
       "    }\n",
       "\n",
       "    .dataframe tbody tr th {\n",
       "        vertical-align: top;\n",
       "    }\n",
       "\n",
       "    .dataframe thead th {\n",
       "        text-align: right;\n",
       "    }\n",
       "</style>\n",
       "<table border=\"1\" class=\"dataframe\">\n",
       "  <thead>\n",
       "    <tr style=\"text-align: right;\">\n",
       "      <th></th>\n",
       "      <th>ALUNO</th>\n",
       "    </tr>\n",
       "    <tr>\n",
       "      <th>TURMA</th>\n",
       "      <th></th>\n",
       "    </tr>\n",
       "  </thead>\n",
       "  <tbody>\n",
       "    <tr>\n",
       "      <th>AM231</th>\n",
       "      <td>1</td>\n",
       "    </tr>\n",
       "    <tr>\n",
       "      <th>BM131</th>\n",
       "      <td>6</td>\n",
       "    </tr>\n",
       "    <tr>\n",
       "      <th>FM131</th>\n",
       "      <td>2</td>\n",
       "    </tr>\n",
       "    <tr>\n",
       "      <th>MAM231</th>\n",
       "      <td>11</td>\n",
       "    </tr>\n",
       "    <tr>\n",
       "      <th>QM131</th>\n",
       "      <td>4</td>\n",
       "    </tr>\n",
       "    <tr>\n",
       "      <th>TM121</th>\n",
       "      <td>2</td>\n",
       "    </tr>\n",
       "    <tr>\n",
       "      <th>TM122</th>\n",
       "      <td>9</td>\n",
       "    </tr>\n",
       "    <tr>\n",
       "      <th>Total</th>\n",
       "      <td>35</td>\n",
       "    </tr>\n",
       "  </tbody>\n",
       "</table>\n",
       "</div>"
      ],
      "text/plain": [
       "        ALUNO\n",
       "TURMA        \n",
       "AM231       1\n",
       "BM131       6\n",
       "FM131       2\n",
       "MAM231     11\n",
       "QM131       4\n",
       "TM121       2\n",
       "TM122       9\n",
       "Total      35"
      ]
     },
     "execution_count": 16,
     "metadata": {},
     "output_type": "execute_result"
    }
   ],
   "source": [
    "turmas_nivel1 = inpdt.pivot_tables(df_prem_nivel1, 'ALUNO', 'TURMA', None)\n",
    "turmas_nivel1"
   ]
  },
  {
   "cell_type": "code",
   "execution_count": 17,
   "metadata": {
    "ExecuteTime": {
     "end_time": "2019-10-31T14:45:12.421412Z",
     "start_time": "2019-10-31T14:45:12.409549Z"
    }
   },
   "outputs": [
    {
     "data": {
      "text/html": [
       "<div>\n",
       "<style scoped>\n",
       "    .dataframe tbody tr th:only-of-type {\n",
       "        vertical-align: middle;\n",
       "    }\n",
       "\n",
       "    .dataframe tbody tr th {\n",
       "        vertical-align: top;\n",
       "    }\n",
       "\n",
       "    .dataframe thead th {\n",
       "        text-align: right;\n",
       "    }\n",
       "</style>\n",
       "<table border=\"1\" class=\"dataframe\">\n",
       "  <thead>\n",
       "    <tr style=\"text-align: right;\">\n",
       "      <th>TURMA</th>\n",
       "      <th>AM231</th>\n",
       "      <th>BM131</th>\n",
       "      <th>FM131</th>\n",
       "      <th>MAM231</th>\n",
       "      <th>QM131</th>\n",
       "      <th>TM121</th>\n",
       "      <th>TM122</th>\n",
       "      <th>Total</th>\n",
       "    </tr>\n",
       "  </thead>\n",
       "  <tbody>\n",
       "    <tr>\n",
       "      <th>ALUNO</th>\n",
       "      <td>1</td>\n",
       "      <td>6</td>\n",
       "      <td>2</td>\n",
       "      <td>11</td>\n",
       "      <td>4</td>\n",
       "      <td>2</td>\n",
       "      <td>9</td>\n",
       "      <td>35</td>\n",
       "    </tr>\n",
       "  </tbody>\n",
       "</table>\n",
       "</div>"
      ],
      "text/plain": [
       "TURMA  AM231  BM131  FM131  MAM231  QM131  TM121  TM122  Total\n",
       "ALUNO      1      6      2      11      4      2      9     35"
      ]
     },
     "execution_count": 17,
     "metadata": {},
     "output_type": "execute_result"
    }
   ],
   "source": [
    "turmas_nivel1.T"
   ]
  },
  {
   "cell_type": "code",
   "execution_count": 18,
   "metadata": {
    "ExecuteTime": {
     "end_time": "2019-10-31T14:45:14.443409Z",
     "start_time": "2019-10-31T14:45:14.433518Z"
    }
   },
   "outputs": [
    {
     "name": "stdout",
     "output_type": "stream",
     "text": [
      "\\begin{tabular}{lrrrrrrrr}\n",
      "\\toprule\n",
      "TURMA &  AM231 &  BM131 &  FM131 &  MAM231 &  QM131 &  TM121 &  TM122 &  Total \\\\\n",
      "\\midrule\n",
      "ALUNO &      1 &      6 &      2 &      11 &      4 &      2 &      9 &     35 \\\\\n",
      "\\bottomrule\n",
      "\\end{tabular}\n",
      "\n"
     ]
    }
   ],
   "source": [
    "inpdt.latex(turmas_nivel1.T)"
   ]
  },
  {
   "cell_type": "code",
   "execution_count": 19,
   "metadata": {
    "ExecuteTime": {
     "end_time": "2019-10-31T14:45:17.400466Z",
     "start_time": "2019-10-31T14:45:16.789011Z"
    }
   },
   "outputs": [
    {
     "data": {
      "image/png": "[encoded data removed]",
      "text/plain": [
       "<Figure size 864x432 with 1 Axes>"
      ]
     },
     "metadata": {},
     "output_type": "display_data"
    }
   ],
   "source": [
    "fig2, axarr = plt.subplots(nrows=1,\n",
    "                           ncols=1,\n",
    "                           figsize=(12, 6),\n",
    "                           facecolor=(1.0, 1.0, 1.0))\n",
    "\n",
    "values = inpdt.pivot_data(turmas_nivel1, 0)\n",
    "labels = inpdt.pivot_index(turmas_nivel1)\n",
    "\n",
    "plots.plot_pizza(values,\n",
    "                 labels,\n",
    "                 'Alunos participantes por turma - Nível 1',\n",
    "                 ax=axarr)\n",
    "\n",
    "figname = 'images/turmas_nivel1'\n",
    "fig2.savefig(figname, bbox_inches='tight', dpi=300)"
   ]
  },
  {
   "cell_type": "markdown",
   "metadata": {},
   "source": [
    "## Organizando a tabela de resumo estatístico"
   ]
  },
  {
   "cell_type": "code",
   "execution_count": 20,
   "metadata": {
    "ExecuteTime": {
     "end_time": "2019-10-31T14:45:19.552091Z",
     "start_time": "2019-10-31T14:45:19.529295Z"
    }
   },
   "outputs": [
    {
     "data": {
      "text/html": [
       "<div>\n",
       "<style scoped>\n",
       "    .dataframe tbody tr th:only-of-type {\n",
       "        vertical-align: middle;\n",
       "    }\n",
       "\n",
       "    .dataframe tbody tr th {\n",
       "        vertical-align: top;\n",
       "    }\n",
       "\n",
       "    .dataframe thead th {\n",
       "        text-align: right;\n",
       "    }\n",
       "</style>\n",
       "<table border=\"1\" class=\"dataframe\">\n",
       "  <thead>\n",
       "    <tr style=\"text-align: right;\">\n",
       "      <th></th>\n",
       "      <th>Acertos parte A</th>\n",
       "      <th>Q17</th>\n",
       "      <th>Q18</th>\n",
       "      <th>Pontos - Objetiva</th>\n",
       "      <th>Pontos - Discursiva</th>\n",
       "      <th>Pontuação final</th>\n",
       "    </tr>\n",
       "  </thead>\n",
       "  <tbody>\n",
       "    <tr>\n",
       "      <th>count</th>\n",
       "      <td>35.000000</td>\n",
       "      <td>35.000000</td>\n",
       "      <td>35.000000</td>\n",
       "      <td>35.000000</td>\n",
       "      <td>35.000000</td>\n",
       "      <td>35.000000</td>\n",
       "    </tr>\n",
       "    <tr>\n",
       "      <th>mean</th>\n",
       "      <td>8.057143</td>\n",
       "      <td>5.485714</td>\n",
       "      <td>2.985714</td>\n",
       "      <td>40.285714</td>\n",
       "      <td>8.471429</td>\n",
       "      <td>48.757143</td>\n",
       "    </tr>\n",
       "    <tr>\n",
       "      <th>std</th>\n",
       "      <td>2.436763</td>\n",
       "      <td>2.974118</td>\n",
       "      <td>3.277027</td>\n",
       "      <td>12.183816</td>\n",
       "      <td>5.406835</td>\n",
       "      <td>15.946294</td>\n",
       "    </tr>\n",
       "    <tr>\n",
       "      <th>min</th>\n",
       "      <td>3.000000</td>\n",
       "      <td>0.000000</td>\n",
       "      <td>0.000000</td>\n",
       "      <td>15.000000</td>\n",
       "      <td>0.000000</td>\n",
       "      <td>15.000000</td>\n",
       "    </tr>\n",
       "    <tr>\n",
       "      <th>25%</th>\n",
       "      <td>6.000000</td>\n",
       "      <td>3.000000</td>\n",
       "      <td>0.000000</td>\n",
       "      <td>30.000000</td>\n",
       "      <td>3.550000</td>\n",
       "      <td>37.000000</td>\n",
       "    </tr>\n",
       "    <tr>\n",
       "      <th>50%</th>\n",
       "      <td>7.000000</td>\n",
       "      <td>6.000000</td>\n",
       "      <td>1.100000</td>\n",
       "      <td>35.000000</td>\n",
       "      <td>9.000000</td>\n",
       "      <td>47.000000</td>\n",
       "    </tr>\n",
       "    <tr>\n",
       "      <th>75%</th>\n",
       "      <td>10.000000</td>\n",
       "      <td>7.500000</td>\n",
       "      <td>6.100000</td>\n",
       "      <td>50.000000</td>\n",
       "      <td>12.900000</td>\n",
       "      <td>61.900000</td>\n",
       "    </tr>\n",
       "    <tr>\n",
       "      <th>max</th>\n",
       "      <td>13.000000</td>\n",
       "      <td>10.000000</td>\n",
       "      <td>8.700000</td>\n",
       "      <td>65.000000</td>\n",
       "      <td>18.700000</td>\n",
       "      <td>80.100000</td>\n",
       "    </tr>\n",
       "  </tbody>\n",
       "</table>\n",
       "</div>"
      ],
      "text/plain": [
       "       Acertos parte A        Q17        Q18  Pontos - Objetiva  \\\n",
       "count        35.000000  35.000000  35.000000          35.000000   \n",
       "mean          8.057143   5.485714   2.985714          40.285714   \n",
       "std           2.436763   2.974118   3.277027          12.183816   \n",
       "min           3.000000   0.000000   0.000000          15.000000   \n",
       "25%           6.000000   3.000000   0.000000          30.000000   \n",
       "50%           7.000000   6.000000   1.100000          35.000000   \n",
       "75%          10.000000   7.500000   6.100000          50.000000   \n",
       "max          13.000000  10.000000   8.700000          65.000000   \n",
       "\n",
       "       Pontos - Discursiva  Pontuação final  \n",
       "count            35.000000        35.000000  \n",
       "mean              8.471429        48.757143  \n",
       "std               5.406835        15.946294  \n",
       "min               0.000000        15.000000  \n",
       "25%               3.550000        37.000000  \n",
       "50%               9.000000        47.000000  \n",
       "75%              12.900000        61.900000  \n",
       "max              18.700000        80.100000  "
      ]
     },
     "execution_count": 20,
     "metadata": {},
     "output_type": "execute_result"
    }
   ],
   "source": [
    "df_prem_nivel1.describe()"
   ]
  },
  {
   "cell_type": "code",
   "execution_count": 21,
   "metadata": {
    "ExecuteTime": {
     "end_time": "2019-10-31T14:45:21.949183Z",
     "start_time": "2019-10-31T14:45:21.921895Z"
    }
   },
   "outputs": [
    {
     "data": {
      "text/html": [
       "<div>\n",
       "<style scoped>\n",
       "    .dataframe tbody tr th:only-of-type {\n",
       "        vertical-align: middle;\n",
       "    }\n",
       "\n",
       "    .dataframe tbody tr th {\n",
       "        vertical-align: top;\n",
       "    }\n",
       "\n",
       "    .dataframe thead th {\n",
       "        text-align: right;\n",
       "    }\n",
       "</style>\n",
       "<table border=\"1\" class=\"dataframe\">\n",
       "  <thead>\n",
       "    <tr style=\"text-align: right;\">\n",
       "      <th></th>\n",
       "      <th>mean</th>\n",
       "      <th>std</th>\n",
       "      <th>min</th>\n",
       "      <th>25%</th>\n",
       "      <th>50%</th>\n",
       "      <th>75%</th>\n",
       "      <th>max</th>\n",
       "      <th>IQR</th>\n",
       "    </tr>\n",
       "  </thead>\n",
       "  <tbody>\n",
       "    <tr>\n",
       "      <th>Pontos - Objetiva</th>\n",
       "      <td>40.29</td>\n",
       "      <td>12.18</td>\n",
       "      <td>15.0</td>\n",
       "      <td>30.00</td>\n",
       "      <td>35.0</td>\n",
       "      <td>50.0</td>\n",
       "      <td>65.0</td>\n",
       "      <td>20.00</td>\n",
       "    </tr>\n",
       "    <tr>\n",
       "      <th>Q17</th>\n",
       "      <td>5.49</td>\n",
       "      <td>2.97</td>\n",
       "      <td>0.0</td>\n",
       "      <td>3.00</td>\n",
       "      <td>6.0</td>\n",
       "      <td>7.5</td>\n",
       "      <td>10.0</td>\n",
       "      <td>4.50</td>\n",
       "    </tr>\n",
       "    <tr>\n",
       "      <th>Q18</th>\n",
       "      <td>2.99</td>\n",
       "      <td>3.28</td>\n",
       "      <td>0.0</td>\n",
       "      <td>0.00</td>\n",
       "      <td>1.1</td>\n",
       "      <td>6.1</td>\n",
       "      <td>8.7</td>\n",
       "      <td>6.10</td>\n",
       "    </tr>\n",
       "    <tr>\n",
       "      <th>Pontos - Discursiva</th>\n",
       "      <td>8.47</td>\n",
       "      <td>5.41</td>\n",
       "      <td>0.0</td>\n",
       "      <td>3.55</td>\n",
       "      <td>9.0</td>\n",
       "      <td>12.9</td>\n",
       "      <td>18.7</td>\n",
       "      <td>9.35</td>\n",
       "    </tr>\n",
       "    <tr>\n",
       "      <th>Pontuação final</th>\n",
       "      <td>48.76</td>\n",
       "      <td>15.95</td>\n",
       "      <td>15.0</td>\n",
       "      <td>37.00</td>\n",
       "      <td>47.0</td>\n",
       "      <td>61.9</td>\n",
       "      <td>80.1</td>\n",
       "      <td>24.90</td>\n",
       "    </tr>\n",
       "  </tbody>\n",
       "</table>\n",
       "</div>"
      ],
      "text/plain": [
       "                      mean    std   min    25%   50%   75%   max    IQR\n",
       "Pontos - Objetiva    40.29  12.18  15.0  30.00  35.0  50.0  65.0  20.00\n",
       "Q17                   5.49   2.97   0.0   3.00   6.0   7.5  10.0   4.50\n",
       "Q18                   2.99   3.28   0.0   0.00   1.1   6.1   8.7   6.10\n",
       "Pontos - Discursiva   8.47   5.41   0.0   3.55   9.0  12.9  18.7   9.35\n",
       "Pontuação final      48.76  15.95  15.0  37.00  47.0  61.9  80.1  24.90"
      ]
     },
     "execution_count": 21,
     "metadata": {},
     "output_type": "execute_result"
    }
   ],
   "source": [
    "stats_nivel1 = inpdt.stats_table(df_prem_nivel1.describe())\n",
    "stats_nivel1"
   ]
  },
  {
   "cell_type": "code",
   "execution_count": 22,
   "metadata": {
    "ExecuteTime": {
     "end_time": "2019-10-31T14:45:23.596212Z",
     "start_time": "2019-10-31T14:45:23.584906Z"
    }
   },
   "outputs": [
    {
     "name": "stdout",
     "output_type": "stream",
     "text": [
      "\\begin{tabular}{lrrrrrrrr}\n",
      "\\toprule\n",
      "{} &   mean &    std &   min &    25\\% &   50\\% &   75\\% &   max &    IQR \\\\\n",
      "\\midrule\n",
      "Pontos - Objetiva   &  40.29 &  12.18 &  15.0 &  30.00 &  35.0 &  50.0 &  65.0 &  20.00 \\\\\n",
      "Q17                 &   5.49 &   2.97 &   0.0 &   3.00 &   6.0 &   7.5 &  10.0 &   4.50 \\\\\n",
      "Q18                 &   2.99 &   3.28 &   0.0 &   0.00 &   1.1 &   6.1 &   8.7 &   6.10 \\\\\n",
      "Pontos - Discursiva &   8.47 &   5.41 &   0.0 &   3.55 &   9.0 &  12.9 &  18.7 &   9.35 \\\\\n",
      "Pontuação final     &  48.76 &  15.95 &  15.0 &  37.00 &  47.0 &  61.9 &  80.1 &  24.90 \\\\\n",
      "\\bottomrule\n",
      "\\end{tabular}\n",
      "\n"
     ]
    }
   ],
   "source": [
    "inpdt.latex(stats_nivel1)"
   ]
  },
  {
   "cell_type": "markdown",
   "metadata": {},
   "source": [
    "## Análise de semestre e turno dos premiados"
   ]
  },
  {
   "cell_type": "code",
   "execution_count": 23,
   "metadata": {
    "ExecuteTime": {
     "end_time": "2019-10-31T14:45:26.046074Z",
     "start_time": "2019-10-31T14:45:26.031780Z"
    }
   },
   "outputs": [
    {
     "data": {
      "text/html": [
       "<div>\n",
       "<style scoped>\n",
       "    .dataframe tbody tr th:only-of-type {\n",
       "        vertical-align: middle;\n",
       "    }\n",
       "\n",
       "    .dataframe tbody tr th {\n",
       "        vertical-align: top;\n",
       "    }\n",
       "\n",
       "    .dataframe thead th {\n",
       "        text-align: right;\n",
       "    }\n",
       "</style>\n",
       "<table border=\"1\" class=\"dataframe\">\n",
       "  <thead>\n",
       "    <tr style=\"text-align: right;\">\n",
       "      <th></th>\n",
       "      <th>ALUNO</th>\n",
       "      <th>TURMA</th>\n",
       "      <th>Acertos parte A</th>\n",
       "      <th>Q17</th>\n",
       "      <th>Q18</th>\n",
       "      <th>Pontos - Objetiva</th>\n",
       "      <th>Pontos - Discursiva</th>\n",
       "      <th>Pontuação final</th>\n",
       "    </tr>\n",
       "  </thead>\n",
       "  <tbody>\n",
       "    <tr>\n",
       "      <th>1</th>\n",
       "      <td>hVXnK1xq</td>\n",
       "      <td>FM131</td>\n",
       "      <td>13.0</td>\n",
       "      <td>8.0</td>\n",
       "      <td>7.1</td>\n",
       "      <td>65.0</td>\n",
       "      <td>15.1</td>\n",
       "      <td>80.1</td>\n",
       "    </tr>\n",
       "    <tr>\n",
       "      <th>2</th>\n",
       "      <td>IYnzA3Os</td>\n",
       "      <td>TM122</td>\n",
       "      <td>12.0</td>\n",
       "      <td>8.0</td>\n",
       "      <td>7.1</td>\n",
       "      <td>60.0</td>\n",
       "      <td>15.1</td>\n",
       "      <td>75.1</td>\n",
       "    </tr>\n",
       "    <tr>\n",
       "      <th>3</th>\n",
       "      <td>fl9124XE</td>\n",
       "      <td>MAM231</td>\n",
       "      <td>11.0</td>\n",
       "      <td>10.0</td>\n",
       "      <td>8.7</td>\n",
       "      <td>55.0</td>\n",
       "      <td>18.7</td>\n",
       "      <td>73.7</td>\n",
       "    </tr>\n",
       "    <tr>\n",
       "      <th>4</th>\n",
       "      <td>g8XotMjL</td>\n",
       "      <td>TM122</td>\n",
       "      <td>12.0</td>\n",
       "      <td>7.0</td>\n",
       "      <td>6.1</td>\n",
       "      <td>60.0</td>\n",
       "      <td>13.1</td>\n",
       "      <td>73.1</td>\n",
       "    </tr>\n",
       "    <tr>\n",
       "      <th>5</th>\n",
       "      <td>eLazoRak</td>\n",
       "      <td>TM121</td>\n",
       "      <td>11.0</td>\n",
       "      <td>7.0</td>\n",
       "      <td>7.6</td>\n",
       "      <td>55.0</td>\n",
       "      <td>14.6</td>\n",
       "      <td>69.6</td>\n",
       "    </tr>\n",
       "    <tr>\n",
       "      <th>6</th>\n",
       "      <td>DroOIkfi</td>\n",
       "      <td>TM122</td>\n",
       "      <td>10.0</td>\n",
       "      <td>10.0</td>\n",
       "      <td>6.1</td>\n",
       "      <td>50.0</td>\n",
       "      <td>16.1</td>\n",
       "      <td>66.1</td>\n",
       "    </tr>\n",
       "    <tr>\n",
       "      <th>7</th>\n",
       "      <td>LALf6IRG</td>\n",
       "      <td>QM131</td>\n",
       "      <td>10.0</td>\n",
       "      <td>6.0</td>\n",
       "      <td>8.7</td>\n",
       "      <td>50.0</td>\n",
       "      <td>14.7</td>\n",
       "      <td>64.7</td>\n",
       "    </tr>\n",
       "    <tr>\n",
       "      <th>8</th>\n",
       "      <td>i7hGhrAz</td>\n",
       "      <td>BM131</td>\n",
       "      <td>10.0</td>\n",
       "      <td>7.0</td>\n",
       "      <td>7.6</td>\n",
       "      <td>50.0</td>\n",
       "      <td>14.6</td>\n",
       "      <td>64.6</td>\n",
       "    </tr>\n",
       "    <tr>\n",
       "      <th>9</th>\n",
       "      <td>FgQuWCVY</td>\n",
       "      <td>TM122</td>\n",
       "      <td>10.0</td>\n",
       "      <td>7.0</td>\n",
       "      <td>5.3</td>\n",
       "      <td>50.0</td>\n",
       "      <td>12.3</td>\n",
       "      <td>62.3</td>\n",
       "    </tr>\n",
       "    <tr>\n",
       "      <th>10</th>\n",
       "      <td>HTdBjn55</td>\n",
       "      <td>TM122</td>\n",
       "      <td>10.0</td>\n",
       "      <td>6.0</td>\n",
       "      <td>5.5</td>\n",
       "      <td>50.0</td>\n",
       "      <td>11.5</td>\n",
       "      <td>61.5</td>\n",
       "    </tr>\n",
       "  </tbody>\n",
       "</table>\n",
       "</div>"
      ],
      "text/plain": [
       "       ALUNO   TURMA  Acertos parte A   Q17  Q18  Pontos - Objetiva  \\\n",
       "1   hVXnK1xq   FM131             13.0   8.0  7.1               65.0   \n",
       "2   IYnzA3Os   TM122             12.0   8.0  7.1               60.0   \n",
       "3   fl9124XE  MAM231             11.0  10.0  8.7               55.0   \n",
       "4   g8XotMjL   TM122             12.0   7.0  6.1               60.0   \n",
       "5   eLazoRak   TM121             11.0   7.0  7.6               55.0   \n",
       "6   DroOIkfi   TM122             10.0  10.0  6.1               50.0   \n",
       "7   LALf6IRG   QM131             10.0   6.0  8.7               50.0   \n",
       "8   i7hGhrAz   BM131             10.0   7.0  7.6               50.0   \n",
       "9   FgQuWCVY   TM122             10.0   7.0  5.3               50.0   \n",
       "10  HTdBjn55   TM122             10.0   6.0  5.5               50.0   \n",
       "\n",
       "    Pontos - Discursiva  Pontuação final  \n",
       "1                  15.1             80.1  \n",
       "2                  15.1             75.1  \n",
       "3                  18.7             73.7  \n",
       "4                  13.1             73.1  \n",
       "5                  14.6             69.6  \n",
       "6                  16.1             66.1  \n",
       "7                  14.7             64.7  \n",
       "8                  14.6             64.6  \n",
       "9                  12.3             62.3  \n",
       "10                 11.5             61.5  "
      ]
     },
     "execution_count": 23,
     "metadata": {},
     "output_type": "execute_result"
    }
   ],
   "source": [
    "df_10_nivel1 = df_prem_nivel1.head(10)\n",
    "df_10_nivel1"
   ]
  },
  {
   "cell_type": "code",
   "execution_count": 25,
   "metadata": {
    "ExecuteTime": {
     "end_time": "2019-10-31T14:45:34.795938Z",
     "start_time": "2019-10-31T14:45:34.689548Z"
    }
   },
   "outputs": [
    {
     "data": {
      "text/html": [
       "<div>\n",
       "<style scoped>\n",
       "    .dataframe tbody tr th:only-of-type {\n",
       "        vertical-align: middle;\n",
       "    }\n",
       "\n",
       "    .dataframe tbody tr th {\n",
       "        vertical-align: top;\n",
       "    }\n",
       "\n",
       "    .dataframe thead th {\n",
       "        text-align: right;\n",
       "    }\n",
       "</style>\n",
       "<table border=\"1\" class=\"dataframe\">\n",
       "  <thead>\n",
       "    <tr style=\"text-align: right;\">\n",
       "      <th></th>\n",
       "      <th>ALUNO</th>\n",
       "      <th>TURMA</th>\n",
       "      <th>Acertos parte A</th>\n",
       "      <th>Q17</th>\n",
       "      <th>Q18</th>\n",
       "      <th>Pontos - Objetiva</th>\n",
       "      <th>Pontos - Discursiva</th>\n",
       "      <th>Pontuação final</th>\n",
       "      <th>cod</th>\n",
       "      <th>num</th>\n",
       "      <th>Período</th>\n",
       "      <th>Turno</th>\n",
       "    </tr>\n",
       "  </thead>\n",
       "  <tbody>\n",
       "    <tr>\n",
       "      <th>1</th>\n",
       "      <td>hVXnK1xq</td>\n",
       "      <td>FM131</td>\n",
       "      <td>13.0</td>\n",
       "      <td>8.0</td>\n",
       "      <td>7.1</td>\n",
       "      <td>65.0</td>\n",
       "      <td>15.1</td>\n",
       "      <td>80.1</td>\n",
       "      <td>FM</td>\n",
       "      <td>131</td>\n",
       "      <td>3º período</td>\n",
       "      <td>Manhã</td>\n",
       "    </tr>\n",
       "    <tr>\n",
       "      <th>2</th>\n",
       "      <td>IYnzA3Os</td>\n",
       "      <td>TM122</td>\n",
       "      <td>12.0</td>\n",
       "      <td>8.0</td>\n",
       "      <td>7.1</td>\n",
       "      <td>60.0</td>\n",
       "      <td>15.1</td>\n",
       "      <td>75.1</td>\n",
       "      <td>TM</td>\n",
       "      <td>122</td>\n",
       "      <td>2º período</td>\n",
       "      <td>Manhã</td>\n",
       "    </tr>\n",
       "    <tr>\n",
       "      <th>3</th>\n",
       "      <td>fl9124XE</td>\n",
       "      <td>MAM231</td>\n",
       "      <td>11.0</td>\n",
       "      <td>10.0</td>\n",
       "      <td>8.7</td>\n",
       "      <td>55.0</td>\n",
       "      <td>18.7</td>\n",
       "      <td>73.7</td>\n",
       "      <td>MAM</td>\n",
       "      <td>231</td>\n",
       "      <td>3º período</td>\n",
       "      <td>Tarde</td>\n",
       "    </tr>\n",
       "    <tr>\n",
       "      <th>4</th>\n",
       "      <td>g8XotMjL</td>\n",
       "      <td>TM122</td>\n",
       "      <td>12.0</td>\n",
       "      <td>7.0</td>\n",
       "      <td>6.1</td>\n",
       "      <td>60.0</td>\n",
       "      <td>13.1</td>\n",
       "      <td>73.1</td>\n",
       "      <td>TM</td>\n",
       "      <td>122</td>\n",
       "      <td>2º período</td>\n",
       "      <td>Manhã</td>\n",
       "    </tr>\n",
       "    <tr>\n",
       "      <th>5</th>\n",
       "      <td>eLazoRak</td>\n",
       "      <td>TM121</td>\n",
       "      <td>11.0</td>\n",
       "      <td>7.0</td>\n",
       "      <td>7.6</td>\n",
       "      <td>55.0</td>\n",
       "      <td>14.6</td>\n",
       "      <td>69.6</td>\n",
       "      <td>TM</td>\n",
       "      <td>121</td>\n",
       "      <td>2º período</td>\n",
       "      <td>Manhã</td>\n",
       "    </tr>\n",
       "    <tr>\n",
       "      <th>6</th>\n",
       "      <td>DroOIkfi</td>\n",
       "      <td>TM122</td>\n",
       "      <td>10.0</td>\n",
       "      <td>10.0</td>\n",
       "      <td>6.1</td>\n",
       "      <td>50.0</td>\n",
       "      <td>16.1</td>\n",
       "      <td>66.1</td>\n",
       "      <td>TM</td>\n",
       "      <td>122</td>\n",
       "      <td>2º período</td>\n",
       "      <td>Manhã</td>\n",
       "    </tr>\n",
       "    <tr>\n",
       "      <th>7</th>\n",
       "      <td>LALf6IRG</td>\n",
       "      <td>QM131</td>\n",
       "      <td>10.0</td>\n",
       "      <td>6.0</td>\n",
       "      <td>8.7</td>\n",
       "      <td>50.0</td>\n",
       "      <td>14.7</td>\n",
       "      <td>64.7</td>\n",
       "      <td>QM</td>\n",
       "      <td>131</td>\n",
       "      <td>3º período</td>\n",
       "      <td>Manhã</td>\n",
       "    </tr>\n",
       "    <tr>\n",
       "      <th>8</th>\n",
       "      <td>i7hGhrAz</td>\n",
       "      <td>BM131</td>\n",
       "      <td>10.0</td>\n",
       "      <td>7.0</td>\n",
       "      <td>7.6</td>\n",
       "      <td>50.0</td>\n",
       "      <td>14.6</td>\n",
       "      <td>64.6</td>\n",
       "      <td>BM</td>\n",
       "      <td>131</td>\n",
       "      <td>3º período</td>\n",
       "      <td>Manhã</td>\n",
       "    </tr>\n",
       "    <tr>\n",
       "      <th>9</th>\n",
       "      <td>FgQuWCVY</td>\n",
       "      <td>TM122</td>\n",
       "      <td>10.0</td>\n",
       "      <td>7.0</td>\n",
       "      <td>5.3</td>\n",
       "      <td>50.0</td>\n",
       "      <td>12.3</td>\n",
       "      <td>62.3</td>\n",
       "      <td>TM</td>\n",
       "      <td>122</td>\n",
       "      <td>2º período</td>\n",
       "      <td>Manhã</td>\n",
       "    </tr>\n",
       "    <tr>\n",
       "      <th>10</th>\n",
       "      <td>HTdBjn55</td>\n",
       "      <td>TM122</td>\n",
       "      <td>10.0</td>\n",
       "      <td>6.0</td>\n",
       "      <td>5.5</td>\n",
       "      <td>50.0</td>\n",
       "      <td>11.5</td>\n",
       "      <td>61.5</td>\n",
       "      <td>TM</td>\n",
       "      <td>122</td>\n",
       "      <td>2º período</td>\n",
       "      <td>Manhã</td>\n",
       "    </tr>\n",
       "  </tbody>\n",
       "</table>\n",
       "</div>"
      ],
      "text/plain": [
       "       ALUNO   TURMA  Acertos parte A   Q17  Q18  Pontos - Objetiva  \\\n",
       "1   hVXnK1xq   FM131             13.0   8.0  7.1               65.0   \n",
       "2   IYnzA3Os   TM122             12.0   8.0  7.1               60.0   \n",
       "3   fl9124XE  MAM231             11.0  10.0  8.7               55.0   \n",
       "4   g8XotMjL   TM122             12.0   7.0  6.1               60.0   \n",
       "5   eLazoRak   TM121             11.0   7.0  7.6               55.0   \n",
       "6   DroOIkfi   TM122             10.0  10.0  6.1               50.0   \n",
       "7   LALf6IRG   QM131             10.0   6.0  8.7               50.0   \n",
       "8   i7hGhrAz   BM131             10.0   7.0  7.6               50.0   \n",
       "9   FgQuWCVY   TM122             10.0   7.0  5.3               50.0   \n",
       "10  HTdBjn55   TM122             10.0   6.0  5.5               50.0   \n",
       "\n",
       "    Pontos - Discursiva  Pontuação final  cod  num     Período  Turno  \n",
       "1                  15.1             80.1   FM  131  3º período  Manhã  \n",
       "2                  15.1             75.1   TM  122  2º período  Manhã  \n",
       "3                  18.7             73.7  MAM  231  3º período  Tarde  \n",
       "4                  13.1             73.1   TM  122  2º período  Manhã  \n",
       "5                  14.6             69.6   TM  121  2º período  Manhã  \n",
       "6                  16.1             66.1   TM  122  2º período  Manhã  \n",
       "7                  14.7             64.7   QM  131  3º período  Manhã  \n",
       "8                  14.6             64.6   BM  131  3º período  Manhã  \n",
       "9                  12.3             62.3   TM  122  2º período  Manhã  \n",
       "10                 11.5             61.5   TM  122  2º período  Manhã  "
      ]
     },
     "execution_count": 25,
     "metadata": {},
     "output_type": "execute_result"
    }
   ],
   "source": [
    "df_10_nivel1 = inpdt.semester_shift(df_10_nivel1)\n",
    "df_10_nivel1"
   ]
  },
  {
   "cell_type": "code",
   "execution_count": 26,
   "metadata": {
    "ExecuteTime": {
     "end_time": "2019-10-31T14:45:38.989838Z",
     "start_time": "2019-10-31T14:45:38.969290Z"
    }
   },
   "outputs": [
    {
     "data": {
      "text/html": [
       "<div>\n",
       "<style scoped>\n",
       "    .dataframe tbody tr th:only-of-type {\n",
       "        vertical-align: middle;\n",
       "    }\n",
       "\n",
       "    .dataframe tbody tr th {\n",
       "        vertical-align: top;\n",
       "    }\n",
       "\n",
       "    .dataframe thead th {\n",
       "        text-align: right;\n",
       "    }\n",
       "</style>\n",
       "<table border=\"1\" class=\"dataframe\">\n",
       "  <thead>\n",
       "    <tr style=\"text-align: right;\">\n",
       "      <th></th>\n",
       "      <th>ALUNO</th>\n",
       "    </tr>\n",
       "    <tr>\n",
       "      <th>Período</th>\n",
       "      <th></th>\n",
       "    </tr>\n",
       "  </thead>\n",
       "  <tbody>\n",
       "    <tr>\n",
       "      <th>2º período</th>\n",
       "      <td>6</td>\n",
       "    </tr>\n",
       "    <tr>\n",
       "      <th>3º período</th>\n",
       "      <td>4</td>\n",
       "    </tr>\n",
       "    <tr>\n",
       "      <th>Total</th>\n",
       "      <td>10</td>\n",
       "    </tr>\n",
       "  </tbody>\n",
       "</table>\n",
       "</div>"
      ],
      "text/plain": [
       "            ALUNO\n",
       "Período          \n",
       "2º período      6\n",
       "3º período      4\n",
       "Total          10"
      ]
     },
     "execution_count": 26,
     "metadata": {},
     "output_type": "execute_result"
    }
   ],
   "source": [
    "per_10_nivel1 = inpdt.pivot_tables(df_10_nivel1, 'ALUNO', 'Período', None)\n",
    "per_10_nivel1"
   ]
  },
  {
   "cell_type": "code",
   "execution_count": 27,
   "metadata": {
    "ExecuteTime": {
     "end_time": "2019-10-31T14:45:41.098776Z",
     "start_time": "2019-10-31T14:45:41.089335Z"
    }
   },
   "outputs": [
    {
     "name": "stdout",
     "output_type": "stream",
     "text": [
      "\\begin{tabular}{lr}\n",
      "\\toprule\n",
      "{} &  ALUNO \\\\\n",
      "Período    &        \\\\\n",
      "\\midrule\n",
      "2º período &      6 \\\\\n",
      "3º período &      4 \\\\\n",
      "Total      &     10 \\\\\n",
      "\\bottomrule\n",
      "\\end{tabular}\n",
      "\n"
     ]
    }
   ],
   "source": [
    "inpdt.latex(per_10_nivel1)"
   ]
  },
  {
   "cell_type": "code",
   "execution_count": 28,
   "metadata": {
    "ExecuteTime": {
     "end_time": "2019-10-31T14:45:44.403864Z",
     "start_time": "2019-10-31T14:45:43.845290Z"
    }
   },
   "outputs": [
    {
     "data": {
      "image/png": "[encoded data removed]",
      "text/plain": [
       "<Figure size 864x432 with 1 Axes>"
      ]
     },
     "metadata": {},
     "output_type": "display_data"
    }
   ],
   "source": [
    "fig3, axarr = plt.subplots(nrows=1,\n",
    "                           ncols=1,\n",
    "                           figsize=(12, 6),\n",
    "                           facecolor=(1.0, 1.0, 1.0))\n",
    "\n",
    "values = inpdt.pivot_data(per_10_nivel1, 0)\n",
    "labels = inpdt.pivot_index(per_10_nivel1)\n",
    "\n",
    "plots.plot_pizza(values,\n",
    "                 labels,\n",
    "                 'Período dos 10 primeiros colocados - Nível 1',\n",
    "                 ax=axarr)\n",
    "\n",
    "figname = 'images/per_10_nivel1'\n",
    "fig3.savefig(figname, bbox_inches='tight', dpi=300)"
   ]
  },
  {
   "cell_type": "code",
   "execution_count": 29,
   "metadata": {
    "ExecuteTime": {
     "end_time": "2019-10-31T14:45:45.550221Z",
     "start_time": "2019-10-31T14:45:45.529161Z"
    }
   },
   "outputs": [
    {
     "data": {
      "text/html": [
       "<div>\n",
       "<style scoped>\n",
       "    .dataframe tbody tr th:only-of-type {\n",
       "        vertical-align: middle;\n",
       "    }\n",
       "\n",
       "    .dataframe tbody tr th {\n",
       "        vertical-align: top;\n",
       "    }\n",
       "\n",
       "    .dataframe thead th {\n",
       "        text-align: right;\n",
       "    }\n",
       "</style>\n",
       "<table border=\"1\" class=\"dataframe\">\n",
       "  <thead>\n",
       "    <tr style=\"text-align: right;\">\n",
       "      <th></th>\n",
       "      <th>ALUNO</th>\n",
       "    </tr>\n",
       "    <tr>\n",
       "      <th>cod</th>\n",
       "      <th></th>\n",
       "    </tr>\n",
       "  </thead>\n",
       "  <tbody>\n",
       "    <tr>\n",
       "      <th>BM</th>\n",
       "      <td>1</td>\n",
       "    </tr>\n",
       "    <tr>\n",
       "      <th>FM</th>\n",
       "      <td>1</td>\n",
       "    </tr>\n",
       "    <tr>\n",
       "      <th>MAM</th>\n",
       "      <td>1</td>\n",
       "    </tr>\n",
       "    <tr>\n",
       "      <th>QM</th>\n",
       "      <td>1</td>\n",
       "    </tr>\n",
       "    <tr>\n",
       "      <th>TM</th>\n",
       "      <td>6</td>\n",
       "    </tr>\n",
       "    <tr>\n",
       "      <th>Total</th>\n",
       "      <td>10</td>\n",
       "    </tr>\n",
       "  </tbody>\n",
       "</table>\n",
       "</div>"
      ],
      "text/plain": [
       "       ALUNO\n",
       "cod         \n",
       "BM         1\n",
       "FM         1\n",
       "MAM        1\n",
       "QM         1\n",
       "TM         6\n",
       "Total     10"
      ]
     },
     "execution_count": 29,
     "metadata": {},
     "output_type": "execute_result"
    }
   ],
   "source": [
    "curso_10_nivel1 = inpdt.pivot_tables(df_10_nivel1, 'ALUNO', 'cod', None)\n",
    "curso_10_nivel1"
   ]
  },
  {
   "cell_type": "code",
   "execution_count": 30,
   "metadata": {
    "ExecuteTime": {
     "end_time": "2019-10-31T14:45:48.010336Z",
     "start_time": "2019-10-31T14:45:48.001012Z"
    }
   },
   "outputs": [
    {
     "name": "stdout",
     "output_type": "stream",
     "text": [
      "\\begin{tabular}{lr}\n",
      "\\toprule\n",
      "{} &  ALUNO \\\\\n",
      "cod   &        \\\\\n",
      "\\midrule\n",
      "BM    &      1 \\\\\n",
      "FM    &      1 \\\\\n",
      "MAM   &      1 \\\\\n",
      "QM    &      1 \\\\\n",
      "TM    &      6 \\\\\n",
      "Total &     10 \\\\\n",
      "\\bottomrule\n",
      "\\end{tabular}\n",
      "\n"
     ]
    }
   ],
   "source": [
    "inpdt.latex(curso_10_nivel1)"
   ]
  },
  {
   "cell_type": "code",
   "execution_count": 31,
   "metadata": {
    "ExecuteTime": {
     "end_time": "2019-10-31T14:45:50.543217Z",
     "start_time": "2019-10-31T14:45:50.017138Z"
    }
   },
   "outputs": [
    {
     "data": {
      "image/png": "[encoded data removed]",
      "text/plain": [
       "<Figure size 864x432 with 1 Axes>"
      ]
     },
     "metadata": {},
     "output_type": "display_data"
    }
   ],
   "source": [
    "fig4, axarr = plt.subplots(nrows=1, ncols=1, figsize=(12,6), facecolor=(1.0, 1.0, 1.0))\n",
    "\n",
    "values = inpdt.pivot_data(curso_10_nivel1, 0)\n",
    "labels = inpdt.pivot_index(curso_10_nivel1)\n",
    "\n",
    "plots.plot_pizza(values, labels, 'Curso dos 10 primeiros colocados - Nível 1', ax=axarr)\n",
    "\n",
    "figname = 'images/curso_10_nivel1'\n",
    "fig4.savefig(figname, bbox_inches='tight', dpi=300)"
   ]
  },
  {
   "cell_type": "code",
   "execution_count": null,
   "metadata": {},
   "outputs": [],
   "source": []
  }
 ],
 "metadata": {
  "hide_input": false,
  "kernelspec": {
   "display_name": "Python 3",
   "language": "python",
   "name": "python3"
  },
  "language_info": {
   "codemirror_mode": {
    "name": "ipython",
    "version": 3
   },
   "file_extension": ".py",
   "mimetype": "text/x-python",
   "name": "python",
   "nbconvert_exporter": "python",
   "pygments_lexer": "ipython3",
   "version": "3.7.3"
  },
  "toc": {
   "base_numbering": 1,
   "nav_menu": {},
   "number_sections": true,
   "sideBar": true,
   "skip_h1_title": false,
   "title_cell": "Table of Contents",
   "title_sidebar": "Contents",
   "toc_cell": false,
   "toc_position": {},
   "toc_section_display": true,
   "toc_window_display": true
  },
  "varInspector": {
   "cols": {
    "lenName": 16,
    "lenType": 16,
    "lenVar": 40
   },
   "kernels_config": {
    "python": {
     "delete_cmd_postfix": "",
     "delete_cmd_prefix": "del ",
     "library": "var_list.py",
     "varRefreshCmd": "print(var_dic_list())"
    },
    "r": {
     "delete_cmd_postfix": ") ",
     "delete_cmd_prefix": "rm(",
     "library": "var_list.r",
     "varRefreshCmd": "cat(var_dic_list()) "
    }
   },
   "types_to_exclude": [
    "module",
    "function",
    "builtin_function_or_method",
    "instance",
    "_Feature"
   ],
   "window_display": false
  }
 },
 "nbformat": 4,
 "nbformat_minor": 2
}
